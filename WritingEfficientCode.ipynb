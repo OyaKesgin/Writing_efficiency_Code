{
 "cells": [
  {
   "cell_type": "raw",
   "metadata": {},
   "source": [
    "# Suppose you wanted to collect the names in the above list that have six letters or more. \n",
    "# In other programming languages, the typical approach is to create an index variable (i), \n",
    "# use i to iterate over the list, and use an if statement to collect the names with six letters"
   ]
  },
  {
   "cell_type": "code",
   "execution_count": 2,
   "metadata": {},
   "outputs": [],
   "source": [
    "names = ['Jerry', 'Kramer', 'Elaine', 'George', 'Newman']"
   ]
  },
  {
   "cell_type": "code",
   "execution_count": 2,
   "metadata": {},
   "outputs": [
    {
     "ename": "KeyboardInterrupt",
     "evalue": "",
     "output_type": "error",
     "traceback": [
      "\u001b[0;31m---------------------------------------------------------------------------\u001b[0m",
      "\u001b[0;31mKeyboardInterrupt\u001b[0m                         Traceback (most recent call last)",
      "\u001b[0;32m<ipython-input-2-5077f56b249d>\u001b[0m in \u001b[0;36m<module>\u001b[0;34m\u001b[0m\n\u001b[1;32m      3\u001b[0m \u001b[0;34m\u001b[0m\u001b[0m\n\u001b[1;32m      4\u001b[0m \u001b[0;32mwhile\u001b[0m \u001b[0mi\u001b[0m \u001b[0;34m<\u001b[0m \u001b[0mlen\u001b[0m\u001b[0;34m(\u001b[0m\u001b[0mnames\u001b[0m\u001b[0;34m)\u001b[0m\u001b[0;34m:\u001b[0m\u001b[0;34m\u001b[0m\u001b[0;34m\u001b[0m\u001b[0m\n\u001b[0;32m----> 5\u001b[0;31m     \u001b[0;32mif\u001b[0m \u001b[0mlen\u001b[0m\u001b[0;34m(\u001b[0m\u001b[0mnames\u001b[0m\u001b[0;34m[\u001b[0m\u001b[0mi\u001b[0m\u001b[0;34m]\u001b[0m\u001b[0;34m)\u001b[0m \u001b[0;34m>=\u001b[0m \u001b[0;36m6\u001b[0m\u001b[0;34m:\u001b[0m\u001b[0;34m\u001b[0m\u001b[0;34m\u001b[0m\u001b[0m\n\u001b[0m\u001b[1;32m      6\u001b[0m         \u001b[0mnew_list\u001b[0m\u001b[0;34m.\u001b[0m\u001b[0mappend\u001b[0m\u001b[0;34m(\u001b[0m\u001b[0mname\u001b[0m\u001b[0;34m[\u001b[0m\u001b[0mi\u001b[0m\u001b[0;34m]\u001b[0m\u001b[0;34m)\u001b[0m\u001b[0;34m\u001b[0m\u001b[0;34m\u001b[0m\u001b[0m\n\u001b[1;32m      7\u001b[0m         \u001b[0mi\u001b[0m \u001b[0;34m+=\u001b[0m\u001b[0;36m1\u001b[0m\u001b[0;34m\u001b[0m\u001b[0;34m\u001b[0m\u001b[0m\n",
      "\u001b[0;31mKeyboardInterrupt\u001b[0m: "
     ]
    }
   ],
   "source": [
    "i=0\n",
    "new_list=[]\n",
    "\n",
    "while i < len(names):\n",
    "    if len(names[i]) >= 6:\n",
    "        new_list.append(name[i])\n",
    "        i +=1"
   ]
  },
  {
   "cell_type": "code",
   "execution_count": 3,
   "metadata": {},
   "outputs": [
    {
     "name": "stdout",
     "output_type": "stream",
     "text": [
      "['Kramer', 'Elaine', 'George', 'Newman']\n"
     ]
    }
   ],
   "source": [
    "# Print the list created by looping over the contents of names\n",
    "better_list=[]\n",
    "for name in names:\n",
    "    if len(name) >= 6:\n",
    "        better_list.append(name)\n",
    "        \n",
    "    \n",
    "    \n",
    "print(better_list)"
   ]
  },
  {
   "cell_type": "code",
   "execution_count": 4,
   "metadata": {},
   "outputs": [],
   "source": [
    "best_list=[name for name in names if len(name)>=6]"
   ]
  },
  {
   "cell_type": "code",
   "execution_count": 6,
   "metadata": {},
   "outputs": [
    {
     "name": "stdout",
     "output_type": "stream",
     "text": [
      "['Kramer', 'Elaine', 'George', 'Newman']\n"
     ]
    }
   ],
   "source": [
    "print(best_list)"
   ]
  },
  {
   "cell_type": "code",
   "execution_count": 7,
   "metadata": {},
   "outputs": [
    {
     "name": "stdout",
     "output_type": "stream",
     "text": [
      "range(0, 11)\n",
      "[0, 1, 2, 3, 4, 5, 6, 7, 8, 9, 10]\n"
     ]
    }
   ],
   "source": [
    "# Builtin_function range()- tool to create sequence of numbers\n",
    "\n",
    "num=[0,1,2,3,4,5,6,7,8,9,10]\n",
    "\n",
    "# range(start, stop)\n",
    "\n",
    "num=range(0,11)\n",
    "num_list=list(num)\n",
    "print(num)\n",
    "print(num_list)"
   ]
  },
  {
   "cell_type": "code",
   "execution_count": 8,
   "metadata": {},
   "outputs": [
    {
     "name": "stdout",
     "output_type": "stream",
     "text": [
      "[0, 1, 2, 3, 4, 5, 6, 7, 8, 9, 10]\n"
     ]
    }
   ],
   "source": [
    "# range(stop)\n",
    "num=range(11)\n",
    "num_list= list(num)\n",
    "print(num_list)"
   ]
  },
  {
   "cell_type": "code",
   "execution_count": 9,
   "metadata": {},
   "outputs": [
    {
     "name": "stdout",
     "output_type": "stream",
     "text": [
      "[2, 4, 6, 8, 10]\n"
     ]
    }
   ],
   "source": [
    "# range(start,stop,step_value)\n",
    "\n",
    "even_nums=range(2,11,2)\n",
    "even_num_list=list(even_nums)\n",
    "print(even_num_list)"
   ]
  },
  {
   "cell_type": "code",
   "execution_count": 10,
   "metadata": {},
   "outputs": [
    {
     "name": "stdout",
     "output_type": "stream",
     "text": [
      "[(0, 'a'), (1, 'b'), (2, 'c'), (3, 'd')]\n"
     ]
    }
   ],
   "source": [
    "# Builtin_function enumarate()- create index items pair for each item for object provider- creates a indexed list of object\n",
    "\n",
    "letters= ['a','b','c','d']\n",
    "\n",
    "indexed_letters=enumerate(letters)\n",
    "indexed_letter_list =list(indexed_letters)\n",
    "print(indexed_letter_list)\n",
    "\n",
    "# returns enumerate objects, can be converted to the list "
   ]
  },
  {
   "cell_type": "code",
   "execution_count": 11,
   "metadata": {},
   "outputs": [
    {
     "name": "stdout",
     "output_type": "stream",
     "text": [
      "[(2, 'a'), (3, 'b'), (4, 'c'), (5, 'd')]\n"
     ]
    }
   ],
   "source": [
    "letters= ['a','b','c','d']\n",
    "\n",
    "indexed_letters2=enumerate(letters, start=2)\n",
    "indexed_letter_list2 =list(indexed_letters2)\n",
    "print(indexed_letter_list2)\n"
   ]
  },
  {
   "cell_type": "markdown",
   "metadata": {},
   "source": [
    "# Kayra Bayrakdar"
   ]
  },
  {
   "cell_type": "code",
   "execution_count": 12,
   "metadata": {},
   "outputs": [],
   "source": [
    "# Builtin_function map() applies function over an object."
   ]
  },
  {
   "cell_type": "code",
   "execution_count": 13,
   "metadata": {},
   "outputs": [
    {
     "name": "stdout",
     "output_type": "stream",
     "text": [
      "[1, 2, 3, 4, 6]\n"
     ]
    }
   ],
   "source": [
    "nums=[1.2,1.5, 2.6, 3.7, 5.8]\n",
    "\n",
    "rnd_num= map(round,nums)\n",
    "print(list(rnd_num))"
   ]
  },
  {
   "cell_type": "code",
   "execution_count": 14,
   "metadata": {},
   "outputs": [
    {
     "name": "stdout",
     "output_type": "stream",
     "text": [
      "[1, 9, 25, 64, 0]\n"
     ]
    }
   ],
   "source": [
    "# map function could be also used with lambda function.\n",
    "\n",
    "nums= [1,3,5,8,0]\n",
    "sqrd_nums = map(lambda x:x**2,nums)\n",
    "print(list(sqrd_nums))"
   ]
  },
  {
   "cell_type": "code",
   "execution_count": 15,
   "metadata": {},
   "outputs": [
    {
     "name": "stdout",
     "output_type": "stream",
     "text": [
      "<class 'range'>\n",
      "[0, 1, 2, 3, 4, 5]\n",
      "[1, 3, 5, 7, 9, 11]\n"
     ]
    }
   ],
   "source": [
    "# You can unpack an object z into a list by using the command [*z].\n",
    "\n",
    "# Create a range object that goes from 0 to 5\n",
    "nums = range(6)\n",
    "print(type(nums))\n",
    "\n",
    "# Convert nums to a list\n",
    "nums_list = list(nums)\n",
    "print(nums_list)\n",
    "\n",
    "# Create a new list of odd numbers from 1 to 11 by unpacking a range object\n",
    "nums_list2 = [*range(1,12,2)]\n",
    "print(nums_list2)"
   ]
  },
  {
   "cell_type": "code",
   "execution_count": 16,
   "metadata": {},
   "outputs": [
    {
     "name": "stdout",
     "output_type": "stream",
     "text": [
      "[(0, 'Jerry'), (1, 'Kramer'), (2, 'Elaine'), (3, 'George'), (4, 'Newman')]\n",
      "[(0, 'Jerry'), (1, 'Kramer'), (2, 'Elaine'), (3, 'George'), (4, 'Newman')]\n",
      "[(1, 'Jerry'), (2, 'Kramer'), (3, 'Elaine'), (4, 'George'), (5, 'Newman')]\n"
     ]
    }
   ],
   "source": [
    "# But, that's not the most efficient solution. Let's explore how to use enumerate() to make this more efficient.\n",
    "\n",
    "# Rewrite the for loop to use enumerate\n",
    "\n",
    "indexed_names = []\n",
    "for i,name in enumerate(names):\n",
    "    index_name = (i,name)\n",
    "    indexed_names.append(index_name) \n",
    "print(indexed_names)\n",
    "\n",
    "# Rewrite the above for loop using list comprehension\n",
    "indexed_names_comp = [(i,name) for i,name in enumerate(names)]\n",
    "print(indexed_names_comp)\n",
    "\n",
    "# Unpack an enumerate object with a starting index of one\n",
    "indexed_names_unpack = [*enumerate(names, 1)]\n",
    "print(indexed_names_unpack)"
   ]
  },
  {
   "cell_type": "markdown",
   "metadata": {},
   "source": [
    "Suppose you wanted to create a new list (called names_uppercase) that converted all the letters in each name to uppercase. you could accomplish this with the below for loop:\n"
   ]
  },
  {
   "cell_type": "code",
   "execution_count": 17,
   "metadata": {},
   "outputs": [
    {
     "name": "stdout",
     "output_type": "stream",
     "text": [
      "['JERRY', 'KRAMER', 'ELAINE', 'GEORGE', 'NEWMAN']\n"
     ]
    }
   ],
   "source": [
    "names_uppercase = []\n",
    "\n",
    "for name in names:\n",
    "  names_uppercase.append(name.upper())\n",
    "\n",
    "\n",
    "print(names_uppercase)"
   ]
  },
  {
   "cell_type": "markdown",
   "metadata": {},
   "source": [
    "INSTRUCTION\n",
    "Use map() and the method str.upper() to convert each name in the list names to uppercase. Save this to the variable names_map.\n",
    "Print the data type of names_map.\n",
    "Unpack the contents of names_map into a list called names_uppercase using the star character (*).\n",
    "Print names_uppercase and observe its contents."
   ]
  },
  {
   "cell_type": "code",
   "execution_count": 18,
   "metadata": {},
   "outputs": [
    {
     "name": "stdout",
     "output_type": "stream",
     "text": [
      "<class 'map'>\n",
      "['JERRY', 'KRAMER', 'ELAINE', 'GEORGE', 'NEWMAN']\n"
     ]
    }
   ],
   "source": [
    "\n",
    "# Use map to apply str.upper to each element in names\n",
    "names_map  = map(str.upper, names)\n",
    "\n",
    "# Print the type of the names_map\n",
    "print(type(names_map))\n",
    "\n",
    "# Unpack names_map into a list\n",
    "names_uppercase = [*names_map]\n",
    "\n",
    "# Print the list created above\n",
    "print(names_uppercase)\n",
    "\n"
   ]
  },
  {
   "cell_type": "markdown",
   "metadata": {},
   "source": [
    "Practice with NumPy arrays\n",
    "Let's practice slicing numpy arrays and using NumPy's broadcasting concept. Remember, broadcasting refers to a numpy array's ability to vectorize operations, so they are performed on all elements of an object at once.\n",
    "\n",
    "A two-dimensional numpy array has been loaded into your session (called nums) and printed into the console for your convenience. numpy has been imported into your session as np.\n"
   ]
  },
  {
   "cell_type": "code",
   "execution_count": 19,
   "metadata": {},
   "outputs": [
    {
     "name": "stdout",
     "output_type": "stream",
     "text": [
      "[0 1 2 3 4]\n"
     ]
    }
   ],
   "source": [
    "# numpy array provides fast memory efficient alternative to python list.\n",
    "import numpy as np\n",
    "\n",
    "nums_np=np.array(range(5))\n",
    "print(nums_np)"
   ]
  },
  {
   "cell_type": "code",
   "execution_count": 20,
   "metadata": {},
   "outputs": [
    {
     "name": "stdout",
     "output_type": "stream",
     "text": [
      "[0 1 2 3 4]\n"
     ]
    },
    {
     "data": {
      "text/plain": [
       "dtype('int64')"
      ]
     },
     "execution_count": 20,
     "metadata": {},
     "output_type": "execute_result"
    }
   ],
   "source": [
    "# numpy array homogenity\n",
    "\n",
    "nums_np_int=np.array([1,3,5])\n",
    "print(nums_np)\n",
    "nums_np.dtype\n"
   ]
  },
  {
   "cell_type": "code",
   "execution_count": 21,
   "metadata": {},
   "outputs": [],
   "source": [
    "nums_np_float= np.array([1,1.4,4])\n",
    "\n",
    "# integers has dots. numpy converted integer to float"
   ]
  },
  {
   "cell_type": "code",
   "execution_count": 22,
   "metadata": {},
   "outputs": [
    {
     "data": {
      "text/plain": [
       "dtype('float64')"
      ]
     },
     "execution_count": 22,
     "metadata": {},
     "output_type": "execute_result"
    }
   ],
   "source": [
    "nums_np_float.dtype"
   ]
  },
  {
   "cell_type": "code",
   "execution_count": 23,
   "metadata": {},
   "outputs": [
    {
     "name": "stdout",
     "output_type": "stream",
     "text": [
      "[0, 1, 4, 9, 16, 25]\n"
     ]
    }
   ],
   "source": [
    "sqrd_nums = []\n",
    "\n",
    "for num in nums:\n",
    "    sqrd_nums.append(num**2)\n",
    "    \n",
    "print(sqrd_nums)"
   ]
  },
  {
   "cell_type": "code",
   "execution_count": 24,
   "metadata": {},
   "outputs": [
    {
     "data": {
      "text/plain": [
       "[0, 1, 4, 9, 16, 25]"
      ]
     },
     "execution_count": 24,
     "metadata": {},
     "output_type": "execute_result"
    }
   ],
   "source": [
    "sqrd_nums2=[num**2 for num in nums]\n",
    "sqrd_nums2"
   ]
  },
  {
   "cell_type": "markdown",
   "metadata": {},
   "source": [
    "NUMPY ARRAY BROADCASTING FUNCTIONALITY\n",
    "Numpy array vectorised operations for their perform on all elements of objects at once. This allow us to efficiently perform calculations over entire array. Another advantage of numpy array is indexing capabilities.\n"
   ]
  },
  {
   "cell_type": "code",
   "execution_count": 25,
   "metadata": {},
   "outputs": [
    {
     "data": {
      "text/plain": [
       "-2"
      ]
     },
     "execution_count": 25,
     "metadata": {},
     "output_type": "execute_result"
    }
   ],
   "source": [
    "#1D array\n",
    "num=[-2,-1,0, 1,2,3]\n",
    "num[0]"
   ]
  },
  {
   "cell_type": "code",
   "execution_count": 26,
   "metadata": {},
   "outputs": [
    {
     "data": {
      "text/plain": [
       "0"
      ]
     },
     "execution_count": 26,
     "metadata": {},
     "output_type": "execute_result"
    }
   ],
   "source": [
    "num_np=np.array(num)\n",
    "num_np[2]"
   ]
  },
  {
   "cell_type": "code",
   "execution_count": 27,
   "metadata": {},
   "outputs": [],
   "source": [
    "# 2D Array\n",
    "nums2=[[1,2,3],\n",
    "      [3,4,5]]\n"
   ]
  },
  {
   "cell_type": "code",
   "execution_count": 28,
   "metadata": {},
   "outputs": [
    {
     "data": {
      "text/plain": [
       "3"
      ]
     },
     "execution_count": 28,
     "metadata": {},
     "output_type": "execute_result"
    }
   ],
   "source": [
    "nums2[0][2]"
   ]
  },
  {
   "cell_type": "code",
   "execution_count": 29,
   "metadata": {},
   "outputs": [
    {
     "data": {
      "text/plain": [
       "3"
      ]
     },
     "execution_count": 29,
     "metadata": {},
     "output_type": "execute_result"
    }
   ],
   "source": [
    "# 2D indexing\n",
    "nums2_np=np.array(nums2)\n",
    "nums2_np[0,2]"
   ]
  },
  {
   "cell_type": "code",
   "execution_count": 30,
   "metadata": {},
   "outputs": [
    {
     "data": {
      "text/plain": [
       "[1, 3]"
      ]
     },
     "execution_count": 30,
     "metadata": {},
     "output_type": "execute_result"
    }
   ],
   "source": [
    "# to return the first columns of values of the object, the array syntecs\n",
    "\n",
    "[row[0] for row in nums2]"
   ]
  },
  {
   "cell_type": "code",
   "execution_count": 31,
   "metadata": {},
   "outputs": [
    {
     "data": {
      "text/plain": [
       "array([1, 3])"
      ]
     },
     "execution_count": 31,
     "metadata": {},
     "output_type": "execute_result"
    }
   ],
   "source": [
    "nums2_np[:,0]"
   ]
  },
  {
   "cell_type": "markdown",
   "metadata": {},
   "source": [
    "NUMPY ARRAY HAS BOOLEN INDEXING\n"
   ]
  },
  {
   "cell_type": "code",
   "execution_count": 32,
   "metadata": {},
   "outputs": [
    {
     "data": {
      "text/plain": [
       "array([False, False, False,  True,  True,  True])"
      ]
     },
     "execution_count": 32,
     "metadata": {},
     "output_type": "execute_result"
    }
   ],
   "source": [
    "num=[-2,-1,0, 1,2,3]\n",
    "num_np=np.array(num)\n",
    "num_np > 0"
   ]
  },
  {
   "cell_type": "code",
   "execution_count": 33,
   "metadata": {},
   "outputs": [
    {
     "data": {
      "text/plain": [
       "array([1, 2, 3])"
      ]
     },
     "execution_count": 33,
     "metadata": {},
     "output_type": "execute_result"
    }
   ],
   "source": [
    "num_np[num_np > 0]"
   ]
  },
  {
   "cell_type": "code",
   "execution_count": 34,
   "metadata": {},
   "outputs": [
    {
     "name": "stdout",
     "output_type": "stream",
     "text": [
      "[('Jerry', 7), ('Kramer', 17), ('Elaine', 27), ('George', 37), ('Newman', 47)]\n"
     ]
    }
   ],
   "source": [
    "%timeit\n",
    "# Create a list of arrival times\n",
    "arrival_times = [*range(10,60,10)]\n",
    "\n",
    "# Convert arrival_times to an array and update the times\n",
    "arrival_times_np = np.array(arrival_times)\n",
    "new_times = arrival_times_np - 3\n",
    "\n",
    "# Use list comprehension and enumerate to pair guests to new times\n",
    "guest_arrivals = [(names[i],time) for i,time in enumerate(new_times)]\n",
    "\n",
    "print(guest_arrivals)"
   ]
  },
  {
   "cell_type": "markdown",
   "metadata": {},
   "source": [
    "### Examining runtime"
   ]
  },
  {
   "cell_type": "code",
   "execution_count": 35,
   "metadata": {},
   "outputs": [
    {
     "data": {
      "application/json": {
       "cell": {
        "!": "OSMagics",
        "HTML": "Other",
        "SVG": "Other",
        "bash": "Other",
        "capture": "ExecutionMagics",
        "debug": "ExecutionMagics",
        "file": "Other",
        "html": "DisplayMagics",
        "javascript": "DisplayMagics",
        "js": "DisplayMagics",
        "latex": "DisplayMagics",
        "markdown": "DisplayMagics",
        "perl": "Other",
        "prun": "ExecutionMagics",
        "pypy": "Other",
        "python": "Other",
        "python2": "Other",
        "python3": "Other",
        "ruby": "Other",
        "script": "ScriptMagics",
        "sh": "Other",
        "svg": "DisplayMagics",
        "sx": "OSMagics",
        "system": "OSMagics",
        "time": "ExecutionMagics",
        "timeit": "ExecutionMagics",
        "writefile": "OSMagics"
       },
       "line": {
        "alias": "OSMagics",
        "alias_magic": "BasicMagics",
        "autoawait": "AsyncMagics",
        "autocall": "AutoMagics",
        "automagic": "AutoMagics",
        "autosave": "KernelMagics",
        "bookmark": "OSMagics",
        "cat": "Other",
        "cd": "OSMagics",
        "clear": "KernelMagics",
        "colors": "BasicMagics",
        "conda": "PackagingMagics",
        "config": "ConfigMagics",
        "connect_info": "KernelMagics",
        "cp": "Other",
        "debug": "ExecutionMagics",
        "dhist": "OSMagics",
        "dirs": "OSMagics",
        "doctest_mode": "BasicMagics",
        "ed": "Other",
        "edit": "KernelMagics",
        "env": "OSMagics",
        "gui": "BasicMagics",
        "hist": "Other",
        "history": "HistoryMagics",
        "killbgscripts": "ScriptMagics",
        "ldir": "Other",
        "less": "KernelMagics",
        "lf": "Other",
        "lk": "Other",
        "ll": "Other",
        "load": "CodeMagics",
        "load_ext": "ExtensionMagics",
        "loadpy": "CodeMagics",
        "logoff": "LoggingMagics",
        "logon": "LoggingMagics",
        "logstart": "LoggingMagics",
        "logstate": "LoggingMagics",
        "logstop": "LoggingMagics",
        "ls": "Other",
        "lsmagic": "BasicMagics",
        "lx": "Other",
        "macro": "ExecutionMagics",
        "magic": "BasicMagics",
        "man": "KernelMagics",
        "matplotlib": "PylabMagics",
        "mkdir": "Other",
        "more": "KernelMagics",
        "mv": "Other",
        "notebook": "BasicMagics",
        "page": "BasicMagics",
        "pastebin": "CodeMagics",
        "pdb": "ExecutionMagics",
        "pdef": "NamespaceMagics",
        "pdoc": "NamespaceMagics",
        "pfile": "NamespaceMagics",
        "pinfo": "NamespaceMagics",
        "pinfo2": "NamespaceMagics",
        "pip": "PackagingMagics",
        "popd": "OSMagics",
        "pprint": "BasicMagics",
        "precision": "BasicMagics",
        "prun": "ExecutionMagics",
        "psearch": "NamespaceMagics",
        "psource": "NamespaceMagics",
        "pushd": "OSMagics",
        "pwd": "OSMagics",
        "pycat": "OSMagics",
        "pylab": "PylabMagics",
        "qtconsole": "KernelMagics",
        "quickref": "BasicMagics",
        "recall": "HistoryMagics",
        "rehashx": "OSMagics",
        "reload_ext": "ExtensionMagics",
        "rep": "Other",
        "rerun": "HistoryMagics",
        "reset": "NamespaceMagics",
        "reset_selective": "NamespaceMagics",
        "rm": "Other",
        "rmdir": "Other",
        "run": "ExecutionMagics",
        "save": "CodeMagics",
        "sc": "OSMagics",
        "set_env": "OSMagics",
        "store": "StoreMagics",
        "sx": "OSMagics",
        "system": "OSMagics",
        "tb": "ExecutionMagics",
        "time": "ExecutionMagics",
        "timeit": "ExecutionMagics",
        "unalias": "OSMagics",
        "unload_ext": "ExtensionMagics",
        "who": "NamespaceMagics",
        "who_ls": "NamespaceMagics",
        "whos": "NamespaceMagics",
        "xdel": "NamespaceMagics",
        "xmode": "BasicMagics"
       }
      },
      "text/plain": [
       "Available line magics:\n",
       "%alias  %alias_magic  %autoawait  %autocall  %automagic  %autosave  %bookmark  %cat  %cd  %clear  %colors  %conda  %config  %connect_info  %cp  %debug  %dhist  %dirs  %doctest_mode  %ed  %edit  %env  %gui  %hist  %history  %killbgscripts  %ldir  %less  %lf  %lk  %ll  %load  %load_ext  %loadpy  %logoff  %logon  %logstart  %logstate  %logstop  %ls  %lsmagic  %lx  %macro  %magic  %man  %matplotlib  %mkdir  %more  %mv  %notebook  %page  %pastebin  %pdb  %pdef  %pdoc  %pfile  %pinfo  %pinfo2  %pip  %popd  %pprint  %precision  %prun  %psearch  %psource  %pushd  %pwd  %pycat  %pylab  %qtconsole  %quickref  %recall  %rehashx  %reload_ext  %rep  %rerun  %reset  %reset_selective  %rm  %rmdir  %run  %save  %sc  %set_env  %store  %sx  %system  %tb  %time  %timeit  %unalias  %unload_ext  %who  %who_ls  %whos  %xdel  %xmode\n",
       "\n",
       "Available cell magics:\n",
       "%%!  %%HTML  %%SVG  %%bash  %%capture  %%debug  %%file  %%html  %%javascript  %%js  %%latex  %%markdown  %%perl  %%prun  %%pypy  %%python  %%python2  %%python3  %%ruby  %%script  %%sh  %%svg  %%sx  %%system  %%time  %%timeit  %%writefile\n",
       "\n",
       "Automagic is ON, % prefix IS NOT needed for line magics."
      ]
     },
     "execution_count": 35,
     "metadata": {},
     "output_type": "execute_result"
    }
   ],
   "source": [
    "%lsmagic"
   ]
  },
  {
   "cell_type": "code",
   "execution_count": 36,
   "metadata": {},
   "outputs": [
    {
     "name": "stdout",
     "output_type": "stream",
     "text": [
      "581 ns ± 28.1 ns per loop (mean ± std. dev. of 7 runs, 1000000 loops each)\n"
     ]
    }
   ],
   "source": [
    "%timeit nums=[x for x in range(10)]"
   ]
  },
  {
   "cell_type": "code",
   "execution_count": 37,
   "metadata": {},
   "outputs": [
    {
     "name": "stdout",
     "output_type": "stream",
     "text": [
      "739 ns ± 15.9 ns per loop (mean ± std. dev. of 7 runs, 1000000 loops each)\n"
     ]
    }
   ],
   "source": [
    "%%timeit\n",
    "\n",
    "nums=[]\n",
    "\n",
    "for x in range(10):\n",
    "    nums.append(x)"
   ]
  },
  {
   "cell_type": "code",
   "execution_count": 38,
   "metadata": {},
   "outputs": [],
   "source": [
    "heroes =['A-Bomb',\n",
    " 'Abe Sapien',\n",
    " 'Abin Sur',\n",
    " 'Abomination',\n",
    " 'Absorbing Man',\n",
    " 'Adam Strange',\n",
    " 'Agent 13',\n",
    " 'Agent Bob',\n",
    " 'Agent Zero',\n",
    " 'Air-Walker',\n",
    " 'Ajax',\n",
    " 'Alan Scott',\n",
    " 'Alfred Pennyworth',\n",
    " 'Alien',\n",
    " 'Amazo',\n",
    " 'Ammo',\n",
    " 'Angel',\n",
    " 'Angel Dust',\n",
    " 'Angel Salvadore',\n",
    " 'Animal Man',\n",
    " 'Annihilus',\n",
    " 'Ant-Man',\n",
    " 'Ant-Man II',\n",
    " 'Anti-Venom',\n",
    " 'Apocalypse',\n",
    " 'Aqualad',\n",
    " 'Aquaman',\n",
    " 'Arachne',\n",
    " 'Archangel',\n",
    " 'Arclight',\n",
    " 'Ardina',\n",
    " 'Ares',\n",
    " 'Ariel',\n",
    " 'Armor',\n",
    " 'Atlas',\n",
    " 'Atom',\n",
    " 'Atom Girl',\n",
    " 'Atom II',\n",
    " 'Aurora',\n",
    " 'Azazel',\n",
    " 'Bane',\n",
    " 'Banshee',\n",
    " 'Bantam',\n",
    " 'Batgirl',\n",
    " 'Batgirl IV',\n",
    " 'Batgirl VI',\n",
    " 'Batman',\n",
    " 'Batman II',\n",
    " 'Battlestar',\n",
    " 'Beak',\n",
    " 'Beast',\n",
    " 'Beast Boy',\n",
    " 'Beta Ray Bill',\n",
    " 'Big Barda',\n",
    " 'Big Man',\n",
    " 'Binary',\n",
    " 'Bishop',\n",
    " 'Bizarro',\n",
    " 'Black Adam',\n",
    " 'Black Bolt',\n",
    " 'Black Canary',\n",
    " 'Black Cat',\n",
    " 'Black Knight III',\n",
    " 'Black Lightning',\n",
    " 'Black Mamba',\n",
    " 'Black Manta',\n",
    " 'Black Panther',\n",
    " 'Black Widow',\n",
    " 'Black Widow II',\n",
    " 'Blackout',\n",
    " 'Blackwing',\n",
    " 'Blackwulf',\n",
    " 'Blade',\n",
    " 'Bling!',\n",
    " 'Blink',\n",
    " 'Blizzard II',\n",
    " 'Blob',\n",
    " 'Bloodaxe',\n",
    " 'Blue Beetle II',\n",
    " 'Boom-Boom',\n",
    " 'Booster Gold',\n",
    " 'Box III',\n",
    " 'Brainiac',\n",
    " 'Brainiac 5',\n",
    " 'Brother Voodoo',\n",
    " 'Buffy',\n",
    " 'Bullseye',\n",
    " 'Bumblebee',\n",
    " 'Cable',\n",
    " 'Callisto',\n",
    " 'Cannonball',\n",
    " 'Captain America',\n",
    " 'Captain Atom',\n",
    " 'Captain Britain',\n",
    " 'Captain Mar-vell',\n",
    " 'Captain Marvel',\n",
    " 'Captain Marvel II',\n",
    " 'Carnage',\n",
    " 'Cat',\n",
    " 'Catwoman',\n",
    " 'Cecilia Reyes',\n",
    " 'Century',\n",
    " 'Chamber',\n",
    " 'Changeling',\n",
    " 'Cheetah',\n",
    " 'Cheetah II',\n",
    " 'Cheetah III',\n",
    " 'Chromos',\n",
    " 'Citizen Steel',\n",
    " 'Cloak',\n",
    " 'Clock King',\n",
    " 'Colossus',\n",
    " 'Copycat',\n",
    " 'Corsair',\n",
    " 'Cottonmouth',\n",
    " 'Crimson Dynamo',\n",
    " 'Crystal',\n",
    " 'Cyborg',\n",
    " 'Cyclops',\n",
    " 'Cypher',\n",
    " 'Dagger',\n",
    " 'Daredevil',\n",
    " 'Darkhawk',\n",
    " 'Darkseid',\n",
    " 'Darkstar',\n",
    " 'Darth Vader',\n",
    " 'Dash',\n",
    " 'Dazzler',\n",
    " 'Deadman',\n",
    " 'Deadpool',\n",
    " 'Deadshot',\n",
    " 'Deathlok',\n",
    " 'Deathstroke',\n",
    " 'Demogoblin',\n",
    " 'Destroyer',\n",
    " 'Diamondback',\n",
    " 'Doc Samson',\n",
    " 'Doctor Doom',\n",
    " 'Doctor Doom II',\n",
    " 'Doctor Fate',\n",
    " 'Doctor Octopus',\n",
    " 'Doctor Strange',\n",
    " 'Domino',\n",
    " 'Donna Troy',\n",
    " 'Doomsday',\n",
    " 'Doppelganger',\n",
    " 'Drax the Destroyer',\n",
    " 'Elastigirl',\n",
    " 'Electro',\n",
    " 'Elektra',\n",
    " 'Elongated Man',\n",
    " 'Emma Frost',\n",
    " 'Enchantress',\n",
    " 'Etrigan',\n",
    " 'Evil Deadpool',\n",
    " 'Evilhawk',\n",
    " 'Exodus',\n",
    " 'Fabian Cortez',\n",
    " 'Falcon',\n",
    " 'Feral',\n",
    " 'Fin Fang Foom',\n",
    " 'Firebird',\n",
    " 'Firelord',\n",
    " 'Firestar',\n",
    " 'Firestorm',\n",
    " 'Flash',\n",
    " 'Flash II',\n",
    " 'Flash III',\n",
    " 'Flash IV',\n",
    " 'Forge',\n",
    " 'Franklin Richards',\n",
    " 'Franklin Storm',\n",
    " 'Frenzy',\n",
    " 'Frigga',\n",
    " 'Galactus',\n",
    " 'Gambit',\n",
    " 'Gamora',\n",
    " 'Genesis',\n",
    " 'Ghost Rider',\n",
    " 'Giganta',\n",
    " 'Gladiator',\n",
    " 'Goblin Queen',\n",
    " 'Goku',\n",
    " 'Goliath IV',\n",
    " 'Gorilla Grodd',\n",
    " 'Granny Goodness',\n",
    " 'Gravity',\n",
    " 'Green Arrow',\n",
    " 'Green Goblin',\n",
    " 'Green Goblin II',\n",
    " 'Green Goblin III',\n",
    " 'Green Goblin IV',\n",
    " 'Groot',\n",
    "\n",
    " 'Morph',\n",
    " 'Moses Magnum',\n",
    " 'Mr Immortal',\n",
    " 'Mr Incredible',\n",
    " 'Ms Marvel II',\n",
    " 'Multiple Man',\n",
    " 'Mysterio',\n",
    " 'Mystique',\n",
    " 'Namor',\n",
    " 'Namora',\n",
    " 'Namorita',\n",
    " 'Naruto Uzumaki',\n",
    " 'Nebula',\n",
    " 'Nick Fury',\n",
    " 'Nightcrawler',\n",
    " 'Nightwing',\n",
    " 'Northstar',\n",
    " 'Nova',\n",
    " 'Odin',\n",
    " 'Omega Red',\n",
    " 'Omniscient',\n",
    " 'One Punch Man',\n",
    " 'Onslaught',\n",
    " 'Oracle',\n",
    " 'Paul Blart',\n",
    " 'Penance II',\n",
    " 'Penguin',\n",
    " 'Phantom Girl',\n",
    " 'Phoenix',\n",
    " 'Plantman',\n",
    " 'Plastic Man',\n",
    " 'Plastique',\n",
    " 'Spock',\n",
    " 'Spyke',\n",
    " 'Star-Lord',\n",
    " 'Starfire',\n",
    " 'Stargirl',\n",
    " 'Static',\n",
    " 'Steel',\n",
    " 'Steppenwolf',\n",
    " 'Storm',\n",
    " 'Sunspot',\n",
    " 'Superboy',\n",
    " 'Superboy-Prime',\n",
    " 'Supergirl',\n",
    " 'Superman',\n",
    " 'Swarm',\n",
    " 'Synch',\n",
    " 'T-1000',\n",
    " 'Taskmaster',\n",
    " 'Tempest',\n",
    " 'Thanos',\n",
    " 'The Comedian',\n",
    " 'Thing',\n",
    " 'Thor',\n",
    " 'Thor Girl',\n",
    " 'Thunderbird',\n",
    " 'Thunderbird III',\n",
    " 'Thunderstrike',\n",
    " 'Thundra',\n",
    " 'Tiger Shark',\n",
    " 'Tigra',\n",
    " 'Tinkerer',\n",
    " 'Toad',\n",
    " 'Toxin',\n",
    " 'Trickster',\n",
    " 'Triplicate Girl',\n",
    " 'Triton',\n",
    " 'Two-Face',\n",
    " 'Ultragirl',\n",
    " 'Ultron',\n",
    " 'Utgard-Loki',\n",
    " 'Vagabond',\n",
    " 'Valerie Hart',\n",
    " 'Valkyrie',\n",
    " 'Vanisher',\n",
    " 'Vegeta',\n",
    " 'Venom',\n",
    " 'Venom II',\n",
    " 'Venom III',\n",
    " 'Vertigo II',\n",
    " 'Vibe',\n",
    " 'Vindicator',\n",
    " 'Violet Parr',\n",
    " 'Vision',\n",
    " 'Vision II',\n",
    " 'Vixen',\n",
    " 'Vulture',\n",
    " 'Walrus',\n",
    " 'War Machine',\n",
    " 'Warbird',\n",
    " 'Warlock',\n",
    " 'Warp',\n",
    " 'Warpath',\n",
    " 'Wasp',\n",
    " 'White Queen',\n",
    " 'Winter Soldier',\n",
    " 'Wiz Kid',\n",
    " 'Wolfsbane',\n",
    " 'Wolverine',\n",
    " 'Wonder Girl',\n",
    " 'Wonder Man',\n",
    " 'Wonder Woman',\n",
    " 'Wyatt Wingfoot',\n",
    " 'X-23',\n",
    " 'X-Man',\n",
    " 'Yellow Claw',\n",
    " 'Yellowjacket',\n",
    " 'Yellowjacket II',\n",
    " 'Yoda',\n",
    " 'Zatanna',\n",
    " 'Zoom']"
   ]
  },
  {
   "cell_type": "code",
   "execution_count": 41,
   "metadata": {},
   "outputs": [
    {
     "name": "stdout",
     "output_type": "stream",
     "text": [
      "5.47 µs ± 1.6 µs per loop (mean ± std. dev. of 5 runs, 25 loops each)\n"
     ]
    }
   ],
   "source": [
    "# What is the correct syntax when using %timeit and only using 5 runs with 25 loops per each run?\n",
    "\n",
    "%timeit -r5 -n25 set(heroes)"
   ]
  },
  {
   "cell_type": "code",
   "execution_count": 40,
   "metadata": {},
   "outputs": [
    {
     "name": "stdout",
     "output_type": "stream",
     "text": [
      "3.98 µs ± 321 ns per loop (mean ± std. dev. of 7 runs, 100000 loops each)\n",
      "3.86 µs ± 325 ns per loop (mean ± std. dev. of 5 runs, 25 loops each)\n",
      "3.74 µs ± 17.8 ns per loop (mean ± std. dev. of 7 runs, 100000 loops each)\n",
      "3.98 µs ± 363 ns per loop (mean ± std. dev. of 5 runs, 25 loops each)\n",
      "3.75 µs ± 21.2 ns per loop (mean ± std. dev. of 7 runs, 100000 loops each)\n",
      "3.92 µs ± 324 ns per loop (mean ± std. dev. of 5 runs, 25 loops each)\n",
      "3.75 µs ± 17.4 ns per loop (mean ± std. dev. of 7 runs, 100000 loops each)\n",
      "4.21 µs ± 816 ns per loop (mean ± std. dev. of 5 runs, 25 loops each)\n",
      "3.77 µs ± 18.5 ns per loop (mean ± std. dev. of 7 runs, 100000 loops each)\n",
      "3.98 µs ± 350 ns per loop (mean ± std. dev. of 5 runs, 25 loops each)\n",
      "3.76 µs ± 6.76 ns per loop (mean ± std. dev. of 7 runs, 100000 loops each)\n",
      "3.93 µs ± 372 ns per loop (mean ± std. dev. of 5 runs, 25 loops each)\n",
      "3.79 µs ± 49.3 ns per loop (mean ± std. dev. of 7 runs, 100000 loops each)\n",
      "4.17 µs ± 499 ns per loop (mean ± std. dev. of 5 runs, 25 loops each)\n",
      "3.78 µs ± 19.3 ns per loop (mean ± std. dev. of 7 runs, 100000 loops each)\n",
      "3.91 µs ± 294 ns per loop (mean ± std. dev. of 5 runs, 25 loops each)\n",
      "3.76 µs ± 44.9 ns per loop (mean ± std. dev. of 7 runs, 100000 loops each)\n",
      "3.95 µs ± 293 ns per loop (mean ± std. dev. of 5 runs, 25 loops each)\n",
      "3.76 µs ± 15.6 ns per loop (mean ± std. dev. of 7 runs, 100000 loops each)\n",
      "3.92 µs ± 370 ns per loop (mean ± std. dev. of 5 runs, 25 loops each)\n",
      "3.75 µs ± 26.5 ns per loop (mean ± std. dev. of 7 runs, 100000 loops each)\n",
      "3.91 µs ± 312 ns per loop (mean ± std. dev. of 5 runs, 25 loops each)\n",
      "4.01 µs ± 21.6 ns per loop (mean ± std. dev. of 7 runs, 100000 loops each)\n",
      "3.95 µs ± 324 ns per loop (mean ± std. dev. of 5 runs, 25 loops each)\n",
      "3.83 µs ± 130 ns per loop (mean ± std. dev. of 7 runs, 100000 loops each)\n",
      "3.92 µs ± 414 ns per loop (mean ± std. dev. of 5 runs, 25 loops each)\n",
      "3.75 µs ± 16.1 ns per loop (mean ± std. dev. of 7 runs, 100000 loops each)\n",
      "3.93 µs ± 297 ns per loop (mean ± std. dev. of 5 runs, 25 loops each)\n",
      "3.81 µs ± 148 ns per loop (mean ± std. dev. of 7 runs, 100000 loops each)\n",
      "4.12 µs ± 310 ns per loop (mean ± std. dev. of 5 runs, 25 loops each)\n",
      "4.28 µs ± 311 ns per loop (mean ± std. dev. of 7 runs, 100000 loops each)\n",
      "3.97 µs ± 284 ns per loop (mean ± std. dev. of 5 runs, 25 loops each)\n",
      "3.88 µs ± 185 ns per loop (mean ± std. dev. of 7 runs, 100000 loops each)\n",
      "4.01 µs ± 385 ns per loop (mean ± std. dev. of 5 runs, 25 loops each)\n",
      "3.78 µs ± 42.2 ns per loop (mean ± std. dev. of 7 runs, 100000 loops each)\n",
      "3.95 µs ± 361 ns per loop (mean ± std. dev. of 5 runs, 25 loops each)\n",
      "4.12 µs ± 213 ns per loop (mean ± std. dev. of 7 runs, 100000 loops each)\n",
      "3.89 µs ± 358 ns per loop (mean ± std. dev. of 5 runs, 25 loops each)\n"
     ]
    },
    {
     "ename": "KeyboardInterrupt",
     "evalue": "",
     "output_type": "error",
     "traceback": [
      "\u001b[0;31m---------------------------------------------------------------------------\u001b[0m",
      "\u001b[0;31mKeyboardInterrupt\u001b[0m                         Traceback (most recent call last)",
      "\u001b[0;32m<ipython-input-40-80d111b66462>\u001b[0m in \u001b[0;36m<module>\u001b[0;34m\u001b[0m\n\u001b[0;32m----> 1\u001b[0;31m \u001b[0mget_ipython\u001b[0m\u001b[0;34m(\u001b[0m\u001b[0;34m)\u001b[0m\u001b[0;34m.\u001b[0m\u001b[0mrun_cell_magic\u001b[0m\u001b[0;34m(\u001b[0m\u001b[0;34m'timeit'\u001b[0m\u001b[0;34m,\u001b[0m \u001b[0;34m'-r5 -n25 set(heroes)'\u001b[0m\u001b[0;34m,\u001b[0m \u001b[0;34m'%timeit set(heroes), 5, 25\\n%timeit -r5 -n25 set(heroes)\\n# correct! %timeit lets you specify the number of runs and number of loops you want to \\n#consider with the -r and -n flags. You can use -r5 and -n25 to specify 5 iterations each \\n#with 25 loops when calculating the average and standard deviation of runtime for your code.\\n'\u001b[0m\u001b[0;34m)\u001b[0m\u001b[0;34m\u001b[0m\u001b[0;34m\u001b[0m\u001b[0m\n\u001b[0m",
      "\u001b[0;32m~/opt/anaconda3/lib/python3.8/site-packages/IPython/core/interactiveshell.py\u001b[0m in \u001b[0;36mrun_cell_magic\u001b[0;34m(self, magic_name, line, cell)\u001b[0m\n\u001b[1;32m   2380\u001b[0m             \u001b[0;32mwith\u001b[0m \u001b[0mself\u001b[0m\u001b[0;34m.\u001b[0m\u001b[0mbuiltin_trap\u001b[0m\u001b[0;34m:\u001b[0m\u001b[0;34m\u001b[0m\u001b[0;34m\u001b[0m\u001b[0m\n\u001b[1;32m   2381\u001b[0m                 \u001b[0margs\u001b[0m \u001b[0;34m=\u001b[0m \u001b[0;34m(\u001b[0m\u001b[0mmagic_arg_s\u001b[0m\u001b[0;34m,\u001b[0m \u001b[0mcell\u001b[0m\u001b[0;34m)\u001b[0m\u001b[0;34m\u001b[0m\u001b[0;34m\u001b[0m\u001b[0m\n\u001b[0;32m-> 2382\u001b[0;31m                 \u001b[0mresult\u001b[0m \u001b[0;34m=\u001b[0m \u001b[0mfn\u001b[0m\u001b[0;34m(\u001b[0m\u001b[0;34m*\u001b[0m\u001b[0margs\u001b[0m\u001b[0;34m,\u001b[0m \u001b[0;34m**\u001b[0m\u001b[0mkwargs\u001b[0m\u001b[0;34m)\u001b[0m\u001b[0;34m\u001b[0m\u001b[0;34m\u001b[0m\u001b[0m\n\u001b[0m\u001b[1;32m   2383\u001b[0m             \u001b[0;32mreturn\u001b[0m \u001b[0mresult\u001b[0m\u001b[0;34m\u001b[0m\u001b[0;34m\u001b[0m\u001b[0m\n\u001b[1;32m   2384\u001b[0m \u001b[0;34m\u001b[0m\u001b[0m\n",
      "\u001b[0;32m<decorator-gen-53>\u001b[0m in \u001b[0;36mtimeit\u001b[0;34m(self, line, cell, local_ns)\u001b[0m\n",
      "\u001b[0;32m~/opt/anaconda3/lib/python3.8/site-packages/IPython/core/magic.py\u001b[0m in \u001b[0;36m<lambda>\u001b[0;34m(f, *a, **k)\u001b[0m\n\u001b[1;32m    185\u001b[0m     \u001b[0;31m# but it's overkill for just that one bit of state.\u001b[0m\u001b[0;34m\u001b[0m\u001b[0;34m\u001b[0m\u001b[0;34m\u001b[0m\u001b[0m\n\u001b[1;32m    186\u001b[0m     \u001b[0;32mdef\u001b[0m \u001b[0mmagic_deco\u001b[0m\u001b[0;34m(\u001b[0m\u001b[0marg\u001b[0m\u001b[0;34m)\u001b[0m\u001b[0;34m:\u001b[0m\u001b[0;34m\u001b[0m\u001b[0;34m\u001b[0m\u001b[0m\n\u001b[0;32m--> 187\u001b[0;31m         \u001b[0mcall\u001b[0m \u001b[0;34m=\u001b[0m \u001b[0;32mlambda\u001b[0m \u001b[0mf\u001b[0m\u001b[0;34m,\u001b[0m \u001b[0;34m*\u001b[0m\u001b[0ma\u001b[0m\u001b[0;34m,\u001b[0m \u001b[0;34m**\u001b[0m\u001b[0mk\u001b[0m\u001b[0;34m:\u001b[0m \u001b[0mf\u001b[0m\u001b[0;34m(\u001b[0m\u001b[0;34m*\u001b[0m\u001b[0ma\u001b[0m\u001b[0;34m,\u001b[0m \u001b[0;34m**\u001b[0m\u001b[0mk\u001b[0m\u001b[0;34m)\u001b[0m\u001b[0;34m\u001b[0m\u001b[0;34m\u001b[0m\u001b[0m\n\u001b[0m\u001b[1;32m    188\u001b[0m \u001b[0;34m\u001b[0m\u001b[0m\n\u001b[1;32m    189\u001b[0m         \u001b[0;32mif\u001b[0m \u001b[0mcallable\u001b[0m\u001b[0;34m(\u001b[0m\u001b[0marg\u001b[0m\u001b[0;34m)\u001b[0m\u001b[0;34m:\u001b[0m\u001b[0;34m\u001b[0m\u001b[0;34m\u001b[0m\u001b[0m\n",
      "\u001b[0;32m~/opt/anaconda3/lib/python3.8/site-packages/IPython/core/magics/execution.py\u001b[0m in \u001b[0;36mtimeit\u001b[0;34m(self, line, cell, local_ns)\u001b[0m\n\u001b[1;32m   1171\u001b[0m                     \u001b[0;32mbreak\u001b[0m\u001b[0;34m\u001b[0m\u001b[0;34m\u001b[0m\u001b[0m\n\u001b[1;32m   1172\u001b[0m \u001b[0;34m\u001b[0m\u001b[0m\n\u001b[0;32m-> 1173\u001b[0;31m         \u001b[0mall_runs\u001b[0m \u001b[0;34m=\u001b[0m \u001b[0mtimer\u001b[0m\u001b[0;34m.\u001b[0m\u001b[0mrepeat\u001b[0m\u001b[0;34m(\u001b[0m\u001b[0mrepeat\u001b[0m\u001b[0;34m,\u001b[0m \u001b[0mnumber\u001b[0m\u001b[0;34m)\u001b[0m\u001b[0;34m\u001b[0m\u001b[0;34m\u001b[0m\u001b[0m\n\u001b[0m\u001b[1;32m   1174\u001b[0m         \u001b[0mbest\u001b[0m \u001b[0;34m=\u001b[0m \u001b[0mmin\u001b[0m\u001b[0;34m(\u001b[0m\u001b[0mall_runs\u001b[0m\u001b[0;34m)\u001b[0m \u001b[0;34m/\u001b[0m \u001b[0mnumber\u001b[0m\u001b[0;34m\u001b[0m\u001b[0;34m\u001b[0m\u001b[0m\n\u001b[1;32m   1175\u001b[0m         \u001b[0mworst\u001b[0m \u001b[0;34m=\u001b[0m \u001b[0mmax\u001b[0m\u001b[0;34m(\u001b[0m\u001b[0mall_runs\u001b[0m\u001b[0;34m)\u001b[0m \u001b[0;34m/\u001b[0m \u001b[0mnumber\u001b[0m\u001b[0;34m\u001b[0m\u001b[0;34m\u001b[0m\u001b[0m\n",
      "\u001b[0;32m~/opt/anaconda3/lib/python3.8/timeit.py\u001b[0m in \u001b[0;36mrepeat\u001b[0;34m(self, repeat, number)\u001b[0m\n\u001b[1;32m    203\u001b[0m         \u001b[0mr\u001b[0m \u001b[0;34m=\u001b[0m \u001b[0;34m[\u001b[0m\u001b[0;34m]\u001b[0m\u001b[0;34m\u001b[0m\u001b[0;34m\u001b[0m\u001b[0m\n\u001b[1;32m    204\u001b[0m         \u001b[0;32mfor\u001b[0m \u001b[0mi\u001b[0m \u001b[0;32min\u001b[0m \u001b[0mrange\u001b[0m\u001b[0;34m(\u001b[0m\u001b[0mrepeat\u001b[0m\u001b[0;34m)\u001b[0m\u001b[0;34m:\u001b[0m\u001b[0;34m\u001b[0m\u001b[0;34m\u001b[0m\u001b[0m\n\u001b[0;32m--> 205\u001b[0;31m             \u001b[0mt\u001b[0m \u001b[0;34m=\u001b[0m \u001b[0mself\u001b[0m\u001b[0;34m.\u001b[0m\u001b[0mtimeit\u001b[0m\u001b[0;34m(\u001b[0m\u001b[0mnumber\u001b[0m\u001b[0;34m)\u001b[0m\u001b[0;34m\u001b[0m\u001b[0;34m\u001b[0m\u001b[0m\n\u001b[0m\u001b[1;32m    206\u001b[0m             \u001b[0mr\u001b[0m\u001b[0;34m.\u001b[0m\u001b[0mappend\u001b[0m\u001b[0;34m(\u001b[0m\u001b[0mt\u001b[0m\u001b[0;34m)\u001b[0m\u001b[0;34m\u001b[0m\u001b[0;34m\u001b[0m\u001b[0m\n\u001b[1;32m    207\u001b[0m         \u001b[0;32mreturn\u001b[0m \u001b[0mr\u001b[0m\u001b[0;34m\u001b[0m\u001b[0;34m\u001b[0m\u001b[0m\n",
      "\u001b[0;32m~/opt/anaconda3/lib/python3.8/site-packages/IPython/core/magics/execution.py\u001b[0m in \u001b[0;36mtimeit\u001b[0;34m(self, number)\u001b[0m\n\u001b[1;32m    167\u001b[0m         \u001b[0mgc\u001b[0m\u001b[0;34m.\u001b[0m\u001b[0mdisable\u001b[0m\u001b[0;34m(\u001b[0m\u001b[0;34m)\u001b[0m\u001b[0;34m\u001b[0m\u001b[0;34m\u001b[0m\u001b[0m\n\u001b[1;32m    168\u001b[0m         \u001b[0;32mtry\u001b[0m\u001b[0;34m:\u001b[0m\u001b[0;34m\u001b[0m\u001b[0;34m\u001b[0m\u001b[0m\n\u001b[0;32m--> 169\u001b[0;31m             \u001b[0mtiming\u001b[0m \u001b[0;34m=\u001b[0m \u001b[0mself\u001b[0m\u001b[0;34m.\u001b[0m\u001b[0minner\u001b[0m\u001b[0;34m(\u001b[0m\u001b[0mit\u001b[0m\u001b[0;34m,\u001b[0m \u001b[0mself\u001b[0m\u001b[0;34m.\u001b[0m\u001b[0mtimer\u001b[0m\u001b[0;34m)\u001b[0m\u001b[0;34m\u001b[0m\u001b[0;34m\u001b[0m\u001b[0m\n\u001b[0m\u001b[1;32m    170\u001b[0m         \u001b[0;32mfinally\u001b[0m\u001b[0;34m:\u001b[0m\u001b[0;34m\u001b[0m\u001b[0;34m\u001b[0m\u001b[0m\n\u001b[1;32m    171\u001b[0m             \u001b[0;32mif\u001b[0m \u001b[0mgcold\u001b[0m\u001b[0;34m:\u001b[0m\u001b[0;34m\u001b[0m\u001b[0;34m\u001b[0m\u001b[0m\n",
      "\u001b[0;32m<magic-timeit>\u001b[0m in \u001b[0;36minner\u001b[0;34m(_it, _timer)\u001b[0m\n",
      "\u001b[0;32m~/opt/anaconda3/lib/python3.8/site-packages/IPython/core/interactiveshell.py\u001b[0m in \u001b[0;36mrun_line_magic\u001b[0;34m(self, magic_name, line, _stack_depth)\u001b[0m\n\u001b[1;32m   2325\u001b[0m                 \u001b[0mkwargs\u001b[0m\u001b[0;34m[\u001b[0m\u001b[0;34m'local_ns'\u001b[0m\u001b[0;34m]\u001b[0m \u001b[0;34m=\u001b[0m \u001b[0mself\u001b[0m\u001b[0;34m.\u001b[0m\u001b[0mget_local_scope\u001b[0m\u001b[0;34m(\u001b[0m\u001b[0mstack_depth\u001b[0m\u001b[0;34m)\u001b[0m\u001b[0;34m\u001b[0m\u001b[0;34m\u001b[0m\u001b[0m\n\u001b[1;32m   2326\u001b[0m             \u001b[0;32mwith\u001b[0m \u001b[0mself\u001b[0m\u001b[0;34m.\u001b[0m\u001b[0mbuiltin_trap\u001b[0m\u001b[0;34m:\u001b[0m\u001b[0;34m\u001b[0m\u001b[0;34m\u001b[0m\u001b[0m\n\u001b[0;32m-> 2327\u001b[0;31m                 \u001b[0mresult\u001b[0m \u001b[0;34m=\u001b[0m \u001b[0mfn\u001b[0m\u001b[0;34m(\u001b[0m\u001b[0;34m*\u001b[0m\u001b[0margs\u001b[0m\u001b[0;34m,\u001b[0m \u001b[0;34m**\u001b[0m\u001b[0mkwargs\u001b[0m\u001b[0;34m)\u001b[0m\u001b[0;34m\u001b[0m\u001b[0;34m\u001b[0m\u001b[0m\n\u001b[0m\u001b[1;32m   2328\u001b[0m             \u001b[0;32mreturn\u001b[0m \u001b[0mresult\u001b[0m\u001b[0;34m\u001b[0m\u001b[0;34m\u001b[0m\u001b[0m\n\u001b[1;32m   2329\u001b[0m \u001b[0;34m\u001b[0m\u001b[0m\n",
      "\u001b[0;32m<decorator-gen-53>\u001b[0m in \u001b[0;36mtimeit\u001b[0;34m(self, line, cell, local_ns)\u001b[0m\n",
      "\u001b[0;32m~/opt/anaconda3/lib/python3.8/site-packages/IPython/core/magic.py\u001b[0m in \u001b[0;36m<lambda>\u001b[0;34m(f, *a, **k)\u001b[0m\n\u001b[1;32m    185\u001b[0m     \u001b[0;31m# but it's overkill for just that one bit of state.\u001b[0m\u001b[0;34m\u001b[0m\u001b[0;34m\u001b[0m\u001b[0;34m\u001b[0m\u001b[0m\n\u001b[1;32m    186\u001b[0m     \u001b[0;32mdef\u001b[0m \u001b[0mmagic_deco\u001b[0m\u001b[0;34m(\u001b[0m\u001b[0marg\u001b[0m\u001b[0;34m)\u001b[0m\u001b[0;34m:\u001b[0m\u001b[0;34m\u001b[0m\u001b[0;34m\u001b[0m\u001b[0m\n\u001b[0;32m--> 187\u001b[0;31m         \u001b[0mcall\u001b[0m \u001b[0;34m=\u001b[0m \u001b[0;32mlambda\u001b[0m \u001b[0mf\u001b[0m\u001b[0;34m,\u001b[0m \u001b[0;34m*\u001b[0m\u001b[0ma\u001b[0m\u001b[0;34m,\u001b[0m \u001b[0;34m**\u001b[0m\u001b[0mk\u001b[0m\u001b[0;34m:\u001b[0m \u001b[0mf\u001b[0m\u001b[0;34m(\u001b[0m\u001b[0;34m*\u001b[0m\u001b[0ma\u001b[0m\u001b[0;34m,\u001b[0m \u001b[0;34m**\u001b[0m\u001b[0mk\u001b[0m\u001b[0;34m)\u001b[0m\u001b[0;34m\u001b[0m\u001b[0;34m\u001b[0m\u001b[0m\n\u001b[0m\u001b[1;32m    188\u001b[0m \u001b[0;34m\u001b[0m\u001b[0m\n\u001b[1;32m    189\u001b[0m         \u001b[0;32mif\u001b[0m \u001b[0mcallable\u001b[0m\u001b[0;34m(\u001b[0m\u001b[0marg\u001b[0m\u001b[0;34m)\u001b[0m\u001b[0;34m:\u001b[0m\u001b[0;34m\u001b[0m\u001b[0;34m\u001b[0m\u001b[0m\n",
      "\u001b[0;32m~/opt/anaconda3/lib/python3.8/site-packages/IPython/core/magics/execution.py\u001b[0m in \u001b[0;36mtimeit\u001b[0;34m(self, line, cell, local_ns)\u001b[0m\n\u001b[1;32m   1171\u001b[0m                     \u001b[0;32mbreak\u001b[0m\u001b[0;34m\u001b[0m\u001b[0;34m\u001b[0m\u001b[0m\n\u001b[1;32m   1172\u001b[0m \u001b[0;34m\u001b[0m\u001b[0m\n\u001b[0;32m-> 1173\u001b[0;31m         \u001b[0mall_runs\u001b[0m \u001b[0;34m=\u001b[0m \u001b[0mtimer\u001b[0m\u001b[0;34m.\u001b[0m\u001b[0mrepeat\u001b[0m\u001b[0;34m(\u001b[0m\u001b[0mrepeat\u001b[0m\u001b[0;34m,\u001b[0m \u001b[0mnumber\u001b[0m\u001b[0;34m)\u001b[0m\u001b[0;34m\u001b[0m\u001b[0;34m\u001b[0m\u001b[0m\n\u001b[0m\u001b[1;32m   1174\u001b[0m         \u001b[0mbest\u001b[0m \u001b[0;34m=\u001b[0m \u001b[0mmin\u001b[0m\u001b[0;34m(\u001b[0m\u001b[0mall_runs\u001b[0m\u001b[0;34m)\u001b[0m \u001b[0;34m/\u001b[0m \u001b[0mnumber\u001b[0m\u001b[0;34m\u001b[0m\u001b[0;34m\u001b[0m\u001b[0m\n\u001b[1;32m   1175\u001b[0m         \u001b[0mworst\u001b[0m \u001b[0;34m=\u001b[0m \u001b[0mmax\u001b[0m\u001b[0;34m(\u001b[0m\u001b[0mall_runs\u001b[0m\u001b[0;34m)\u001b[0m \u001b[0;34m/\u001b[0m \u001b[0mnumber\u001b[0m\u001b[0;34m\u001b[0m\u001b[0;34m\u001b[0m\u001b[0m\n",
      "\u001b[0;32m~/opt/anaconda3/lib/python3.8/timeit.py\u001b[0m in \u001b[0;36mrepeat\u001b[0;34m(self, repeat, number)\u001b[0m\n\u001b[1;32m    203\u001b[0m         \u001b[0mr\u001b[0m \u001b[0;34m=\u001b[0m \u001b[0;34m[\u001b[0m\u001b[0;34m]\u001b[0m\u001b[0;34m\u001b[0m\u001b[0;34m\u001b[0m\u001b[0m\n\u001b[1;32m    204\u001b[0m         \u001b[0;32mfor\u001b[0m \u001b[0mi\u001b[0m \u001b[0;32min\u001b[0m \u001b[0mrange\u001b[0m\u001b[0;34m(\u001b[0m\u001b[0mrepeat\u001b[0m\u001b[0;34m)\u001b[0m\u001b[0;34m:\u001b[0m\u001b[0;34m\u001b[0m\u001b[0;34m\u001b[0m\u001b[0m\n\u001b[0;32m--> 205\u001b[0;31m             \u001b[0mt\u001b[0m \u001b[0;34m=\u001b[0m \u001b[0mself\u001b[0m\u001b[0;34m.\u001b[0m\u001b[0mtimeit\u001b[0m\u001b[0;34m(\u001b[0m\u001b[0mnumber\u001b[0m\u001b[0;34m)\u001b[0m\u001b[0;34m\u001b[0m\u001b[0;34m\u001b[0m\u001b[0m\n\u001b[0m\u001b[1;32m    206\u001b[0m             \u001b[0mr\u001b[0m\u001b[0;34m.\u001b[0m\u001b[0mappend\u001b[0m\u001b[0;34m(\u001b[0m\u001b[0mt\u001b[0m\u001b[0;34m)\u001b[0m\u001b[0;34m\u001b[0m\u001b[0;34m\u001b[0m\u001b[0m\n\u001b[1;32m    207\u001b[0m         \u001b[0;32mreturn\u001b[0m \u001b[0mr\u001b[0m\u001b[0;34m\u001b[0m\u001b[0;34m\u001b[0m\u001b[0m\n",
      "\u001b[0;32m~/opt/anaconda3/lib/python3.8/site-packages/IPython/core/magics/execution.py\u001b[0m in \u001b[0;36mtimeit\u001b[0;34m(self, number)\u001b[0m\n\u001b[1;32m    167\u001b[0m         \u001b[0mgc\u001b[0m\u001b[0;34m.\u001b[0m\u001b[0mdisable\u001b[0m\u001b[0;34m(\u001b[0m\u001b[0;34m)\u001b[0m\u001b[0;34m\u001b[0m\u001b[0;34m\u001b[0m\u001b[0m\n\u001b[1;32m    168\u001b[0m         \u001b[0;32mtry\u001b[0m\u001b[0;34m:\u001b[0m\u001b[0;34m\u001b[0m\u001b[0;34m\u001b[0m\u001b[0m\n\u001b[0;32m--> 169\u001b[0;31m             \u001b[0mtiming\u001b[0m \u001b[0;34m=\u001b[0m \u001b[0mself\u001b[0m\u001b[0;34m.\u001b[0m\u001b[0minner\u001b[0m\u001b[0;34m(\u001b[0m\u001b[0mit\u001b[0m\u001b[0;34m,\u001b[0m \u001b[0mself\u001b[0m\u001b[0;34m.\u001b[0m\u001b[0mtimer\u001b[0m\u001b[0;34m)\u001b[0m\u001b[0;34m\u001b[0m\u001b[0;34m\u001b[0m\u001b[0m\n\u001b[0m\u001b[1;32m    170\u001b[0m         \u001b[0;32mfinally\u001b[0m\u001b[0;34m:\u001b[0m\u001b[0;34m\u001b[0m\u001b[0;34m\u001b[0m\u001b[0m\n\u001b[1;32m    171\u001b[0m             \u001b[0;32mif\u001b[0m \u001b[0mgcold\u001b[0m\u001b[0;34m:\u001b[0m\u001b[0;34m\u001b[0m\u001b[0;34m\u001b[0m\u001b[0m\n",
      "\u001b[0;32m<magic-timeit>\u001b[0m in \u001b[0;36minner\u001b[0;34m(_it, _timer)\u001b[0m\n",
      "\u001b[0;31mKeyboardInterrupt\u001b[0m: "
     ]
    }
   ],
   "source": [
    "\n",
    "%%timeit -r5 -n25 set(heroes)\n",
    "%timeit set(heroes), 5, 25\n",
    "%timeit -r5 -n25 set(heroes)\n",
    "# correct! %timeit lets you specify the number of runs and number of loops you want to \n",
    "#consider with the -r and -n flags. You can use -r5 and -n25 to specify 5 iterations each \n",
    "#with 25 loops when calculating the average and standard deviation of runtime for your code."
   ]
  },
  {
   "cell_type": "code",
   "execution_count": 42,
   "metadata": {},
   "outputs": [
    {
     "name": "stdout",
     "output_type": "stream",
     "text": [
      "[]\n",
      "[]\n",
      "<class 'list'>\n",
      "<class 'list'>\n"
     ]
    }
   ],
   "source": [
    "formal_list = list()\n",
    "print(formal_list)\n",
    "\n",
    "# Create a list using the literal syntax\n",
    "literal_list = []\n",
    "print(literal_list)\n",
    "\n",
    "# Print out the type of formal_list\n",
    "print(type(formal_list))\n",
    "\n",
    "# Print out the type of literal_list\n",
    "print(type(literal_list))"
   ]
  },
  {
   "cell_type": "code",
   "execution_count": 43,
   "metadata": {},
   "outputs": [],
   "source": [
    "wts=[441.0,\n",
    " 65.0,\n",
    " 90.0,\n",
    " 441.0,\n",
    " 122.0,\n",
    " 88.0,\n",
    " 61.0,\n",
    " 81.0,\n",
    " 104.0,\n",
    " 108.0,\n",
    " 90.0,\n",
    " 90.0,\n",
    " 72.0,\n",
    " 169.0,\n",
    " 173.0,\n",
    " 101.0,\n",
    " 68.0,\n",
    " 57.0,\n",
    " 54.0,\n",
    " 83.0,\n",
    " 90.0,\n",
    " 122.0,\n",
    " 86.0,\n",
    " 358.0,\n",
    " 135.0,\n",
    " 106.0,\n",
    " 146.0,\n",
    " 63.0,\n",
    " 68.0,\n",
    " 57.0,\n",
    " 98.0,\n",
    " 270.0,\n",
    " 59.0,\n",
    " 50.0]\n",
    "\n",
    "\n",
    "hero_wts_lbs = []\n",
    "for wt in wts:\n",
    "    hero_wts_lbs.append(wt * 2.20462)"
   ]
  },
  {
   "cell_type": "code",
   "execution_count": 53,
   "metadata": {},
   "outputs": [
    {
     "name": "stderr",
     "output_type": "stream",
     "text": [
      "UsageError: Line magic function `%%timeit` not found.\n"
     ]
    }
   ],
   "source": [
    "hero_wts_lbs = []\n",
    "for wt in wts:\n",
    "    hero_wts_lbs.append(wt * 2.20462)\n",
    "##Or you could use a numpy array to accomplish this task:\n",
    "\n",
    "%%timeit wts_np = np.array(wts)\n",
    "%%timeit hero_wts_lbs_np = wts_np * 2.20462\n",
    "\n",
    "\n",
    "#Use %%timeit in your IPython console to compare runtimes between these to approaches. \n",
    "#Make sure to press SHIFT+ENTER after the magic command to add a new line before writing \n",
    "#the code you wish to time. After you've finished coding, answer the following question:\n",
    "\n",
    "#Which of the above techniques is faster?"
   ]
  },
  {
   "cell_type": "code",
   "execution_count": 45,
   "metadata": {},
   "outputs": [],
   "source": [
    "%load_ext line_profiler"
   ]
  },
  {
   "cell_type": "code",
   "execution_count": 56,
   "metadata": {},
   "outputs": [],
   "source": [
    "heroes = ['Batman','Superman','Wonderwomen']\n",
    "\n",
    "hts = np.array(['190.0', '178.0','170.0'])\n",
    "               \n",
    "wts = np.array(['70.0','80.0','67.0'])"
   ]
  },
  {
   "cell_type": "code",
   "execution_count": 57,
   "metadata": {},
   "outputs": [],
   "source": [
    "def convert_units(heroes, heights, weights):\n",
    "\n",
    "    new_hts = [ht * 0.39370  for ht in heights]\n",
    "    new_wts = [wt * 2.20462  for wt in weights]\n",
    "\n",
    "    hero_data = {}\n",
    "\n",
    "    for i,hero in enumerate(heroes):\n",
    "        hero_data[hero] = (new_hts[i], new_wts[i])\n",
    "\n",
    "    return hero_data"
   ]
  },
  {
   "cell_type": "code",
   "execution_count": 59,
   "metadata": {},
   "outputs": [],
   "source": [
    "\n",
    "heroes = ['Batman','Superman','Wonderwomen']\n",
    "\n",
    "hts = np.array([190.0, 178.0,170.0])\n",
    "               \n",
    "wts = np.array([70.0,80.0,67.0])\n",
    "\n",
    "\n",
    "def convert_units(heroes,heights,weights):\n",
    "    new_hts =[ht * 0.39370 for ht in heights]\n",
    "    new_wts =[wt * 2.20462 for wt in weights]\n",
    "               \n",
    "    hero_data= {}\n",
    "               \n",
    "    for i, hero in enumerate(heroes):\n",
    "        hero_data[hero] = (new_hts[i],new_wts[i])\n",
    "    return hero_data\n",
    "                                  \n",
    "\n",
    "\n",
    "\n"
   ]
  },
  {
   "cell_type": "code",
   "execution_count": 61,
   "metadata": {},
   "outputs": [],
   "source": [
    "%lprun convert_units(heroes,hts,wts)"
   ]
  },
  {
   "cell_type": "code",
   "execution_count": 62,
   "metadata": {},
   "outputs": [
    {
     "name": "stdout",
     "output_type": "stream",
     "text": [
      "3.31 µs ± 19.6 ns per loop (mean ± std. dev. of 7 runs, 100000 loops each)\n"
     ]
    },
    {
     "name": "stderr",
     "output_type": "stream",
     "text": [
      "UsageError: Line magic function `%lprun-f` not found.\n"
     ]
    }
   ],
   "source": [
    "%timeit convert_units(heroes,hts,wts)\n",
    "%lprun-f convert_units(heroes,hts,wts)"
   ]
  },
  {
   "cell_type": "code",
   "execution_count": 63,
   "metadata": {},
   "outputs": [],
   "source": [
    "def convert_units_broadcast(heroes, heights, weights):\n",
    "\n",
    "    # Array broadcasting instead of list comprehension\n",
    "    new_hts = heights * 0.39370\n",
    "    new_wts = weights * 2.20462\n",
    "\n",
    "    hero_data = {}\n",
    "\n",
    "    for i,hero in enumerate(heroes):\n",
    "        hero_data[hero] = (new_hts[i], new_wts[i])\n",
    "\n",
    "    return hero_data"
   ]
  },
  {
   "cell_type": "code",
   "execution_count": 64,
   "metadata": {},
   "outputs": [
    {
     "name": "stdout",
     "output_type": "stream",
     "text": [
      "3.38 µs ± 55.4 ns per loop (mean ± std. dev. of 7 runs, 100000 loops each)\n"
     ]
    }
   ],
   "source": [
    "%timeit convert_units(heroes,hts,wts)"
   ]
  },
  {
   "cell_type": "code",
   "execution_count": 60,
   "metadata": {},
   "outputs": [],
   "source": [
    "def convert_units(heroes, heights, weights):\n",
    "\n",
    "    new_hts = [ht * 0.39370  for ht in heights]\n",
    "    new_wts = [wt * 2.20462  for wt in weights]\n",
    "\n",
    "    hero_data = {}\n",
    "\n",
    "    for i,hero in enumerate(heroes):\n",
    "        hero_data[hero] = (new_hts[i], new_wts[i])\n",
    "\n",
    "    return hero_data"
   ]
  },
  {
   "cell_type": "code",
   "execution_count": 69,
   "metadata": {},
   "outputs": [
    {
     "name": "stdout",
     "output_type": "stream",
     "text": [
      "The memory_profiler extension is already loaded. To reload it, use:\n",
      "  %reload_ext memory_profiler\n",
      "ERROR: Could not find file <ipython-input-59-b20a9bb59cdc>\n",
      "NOTE: %mprun can only be used on functions defined in physical files, and not in the IPython environment.\n",
      "\n"
     ]
    }
   ],
   "source": [
    "%load_ext memory_profiler\n",
    "%reload_ext memory_profiler\n",
    "%mprun -f convert_units convert_units(heroes, hts, wts)"
   ]
  },
  {
   "cell_type": "code",
   "execution_count": 74,
   "metadata": {},
   "outputs": [],
   "source": [
    "## BMI = mass(kg) / height(m)^2"
   ]
  },
  {
   "cell_type": "code",
   "execution_count": 77,
   "metadata": {},
   "outputs": [
    {
     "name": "stdout",
     "output_type": "stream",
     "text": [
      "[('oya', 45), ('murat', 39), ('bahadir', 44)]\n"
     ]
    }
   ],
   "source": [
    "#Combining Objects with Zip\n",
    "names = ['oya', 'murat', 'bahadir']\n",
    "hps= [45,39,44]\n",
    "\n",
    "combined_zip=zip(names,hps)\n",
    "print(list(combined_zip))\n",
    "# each item is a tuple"
   ]
  },
  {
   "cell_type": "code",
   "execution_count": 78,
   "metadata": {},
   "outputs": [
    {
     "name": "stdout",
     "output_type": "stream",
     "text": [
      "[('oya', 45), ('murat', 39), ('bahadir', 44)]\n"
     ]
    }
   ],
   "source": [
    "combined= []\n",
    "\n",
    "for i,pokemon in enumerate(names):\n",
    "    combined.append((pokemon,hps[i]))\n",
    "\n",
    "print(combined)\n"
   ]
  },
  {
   "cell_type": "code",
   "execution_count": 82,
   "metadata": {},
   "outputs": [
    {
     "name": "stdout",
     "output_type": "stream",
     "text": [
      "{'Grass': 1, 'Dark': 1, 'Fire': 1, 'Tree': 1, 'Sky': 1, 'Star': 1, 'love': 1, 'stone': 1, 'ice': 1, 'murat': 1, 'oya': 1}\n"
     ]
    }
   ],
   "source": [
    "poke_types = ['Grass', 'Dark','Fire','Tree','Sky','Star','love','stone','ice', 'murat','oya', 'oya']\n",
    "\n",
    "type_counts = {}\n",
    "\n",
    "for poke_type in poke_types:\n",
    "    if poke_type not in type_counts:\n",
    "        type_counts[poke_type] = 1\n",
    "    else:\n",
    "        type_counts[poke_type] =+1\n",
    "\n",
    "print(type_counts)"
   ]
  },
  {
   "cell_type": "code",
   "execution_count": 86,
   "metadata": {},
   "outputs": [
    {
     "name": "stdout",
     "output_type": "stream",
     "text": [
      "Counter({'oya': 2, 'Grass': 1, 'Dark': 1, 'Fire': 1, 'Tree': 1, 'Sky': 1, 'Star': 1, 'love': 1, 'stone': 1, 'ice': 1, 'murat': 1})\n"
     ]
    }
   ],
   "source": [
    "from collections import Counter # takes half of time over loop\n",
    "type_counts=Counter(poke_types)\n",
    "print(type_counts)"
   ]
  },
  {
   "cell_type": "code",
   "execution_count": 91,
   "metadata": {},
   "outputs": [],
   "source": [
    "poke_types = ['Grass', 'Dark','Fire','Tree','Sky','Star','love','stone','ice', 'murat','oya', 'oya']\n",
    "\n",
    "combos=[]\n",
    "\n",
    "for x in poke_types:\n",
    "    for y in poke_types:\n",
    "        if x==y:\n",
    "            continue\n",
    "        if((x,y) not in combos) & ((y,x) not in combos):\n",
    "            combos.append((x,y))"
   ]
  },
  {
   "cell_type": "code",
   "execution_count": 92,
   "metadata": {},
   "outputs": [
    {
     "name": "stdout",
     "output_type": "stream",
     "text": [
      "[('Grass', 'Dark'), ('Grass', 'Fire'), ('Grass', 'Tree'), ('Grass', 'Sky'), ('Grass', 'Star'), ('Grass', 'love'), ('Grass', 'stone'), ('Grass', 'ice'), ('Grass', 'murat'), ('Grass', 'oya'), ('Dark', 'Fire'), ('Dark', 'Tree'), ('Dark', 'Sky'), ('Dark', 'Star'), ('Dark', 'love'), ('Dark', 'stone'), ('Dark', 'ice'), ('Dark', 'murat'), ('Dark', 'oya'), ('Fire', 'Tree'), ('Fire', 'Sky'), ('Fire', 'Star'), ('Fire', 'love'), ('Fire', 'stone'), ('Fire', 'ice'), ('Fire', 'murat'), ('Fire', 'oya'), ('Tree', 'Sky'), ('Tree', 'Star'), ('Tree', 'love'), ('Tree', 'stone'), ('Tree', 'ice'), ('Tree', 'murat'), ('Tree', 'oya'), ('Sky', 'Star'), ('Sky', 'love'), ('Sky', 'stone'), ('Sky', 'ice'), ('Sky', 'murat'), ('Sky', 'oya'), ('Star', 'love'), ('Star', 'stone'), ('Star', 'ice'), ('Star', 'murat'), ('Star', 'oya'), ('love', 'stone'), ('love', 'ice'), ('love', 'murat'), ('love', 'oya'), ('stone', 'ice'), ('stone', 'murat'), ('stone', 'oya'), ('ice', 'murat'), ('ice', 'oya'), ('murat', 'oya')]\n"
     ]
    }
   ],
   "source": [
    "print(combos)"
   ]
  },
  {
   "cell_type": "code",
   "execution_count": 98,
   "metadata": {},
   "outputs": [
    {
     "name": "stdout",
     "output_type": "stream",
     "text": [
      "[('Grass', 'Dark'), ('Grass', 'Fire'), ('Grass', 'Tree'), ('Grass', 'Sky'), ('Grass', 'Star'), ('Grass', 'love'), ('Grass', 'stone'), ('Grass', 'ice'), ('Grass', 'murat'), ('Grass', 'oya'), ('Grass', 'oya'), ('Dark', 'Fire'), ('Dark', 'Tree'), ('Dark', 'Sky'), ('Dark', 'Star'), ('Dark', 'love'), ('Dark', 'stone'), ('Dark', 'ice'), ('Dark', 'murat'), ('Dark', 'oya'), ('Dark', 'oya'), ('Fire', 'Tree'), ('Fire', 'Sky'), ('Fire', 'Star'), ('Fire', 'love'), ('Fire', 'stone'), ('Fire', 'ice'), ('Fire', 'murat'), ('Fire', 'oya'), ('Fire', 'oya'), ('Tree', 'Sky'), ('Tree', 'Star'), ('Tree', 'love'), ('Tree', 'stone'), ('Tree', 'ice'), ('Tree', 'murat'), ('Tree', 'oya'), ('Tree', 'oya'), ('Sky', 'Star'), ('Sky', 'love'), ('Sky', 'stone'), ('Sky', 'ice'), ('Sky', 'murat'), ('Sky', 'oya'), ('Sky', 'oya'), ('Star', 'love'), ('Star', 'stone'), ('Star', 'ice'), ('Star', 'murat'), ('Star', 'oya'), ('Star', 'oya'), ('love', 'stone'), ('love', 'ice'), ('love', 'murat'), ('love', 'oya'), ('love', 'oya'), ('stone', 'ice'), ('stone', 'murat'), ('stone', 'oya'), ('stone', 'oya'), ('ice', 'murat'), ('ice', 'oya'), ('ice', 'oya'), ('murat', 'oya'), ('murat', 'oya'), ('oya', 'oya')]\n",
      "<class 'itertools.combinations'>\n"
     ]
    }
   ],
   "source": [
    "from itertools import combinations\n",
    "\n",
    "combos_object=combinations(poke_types,2)\n",
    "print(list(combos_object))\n",
    "print(type(combos_object))"
   ]
  },
  {
   "cell_type": "code",
   "execution_count": 103,
   "metadata": {},
   "outputs": [
    {
     "name": "stdout",
     "output_type": "stream",
     "text": [
      "[('Grass', 'Dark'), ('Grass', 'Fire'), ('Grass', 'Tree'), ('Grass', 'Sky'), ('Grass', 'Star'), ('Grass', 'love'), ('Grass', 'stone'), ('Grass', 'ice'), ('Grass', 'murat'), ('Grass', 'oya'), ('Grass', 'oya'), ('Dark', 'Fire'), ('Dark', 'Tree'), ('Dark', 'Sky'), ('Dark', 'Star'), ('Dark', 'love'), ('Dark', 'stone'), ('Dark', 'ice'), ('Dark', 'murat'), ('Dark', 'oya'), ('Dark', 'oya'), ('Fire', 'Tree'), ('Fire', 'Sky'), ('Fire', 'Star'), ('Fire', 'love'), ('Fire', 'stone'), ('Fire', 'ice'), ('Fire', 'murat'), ('Fire', 'oya'), ('Fire', 'oya'), ('Tree', 'Sky'), ('Tree', 'Star'), ('Tree', 'love'), ('Tree', 'stone'), ('Tree', 'ice'), ('Tree', 'murat'), ('Tree', 'oya'), ('Tree', 'oya'), ('Sky', 'Star'), ('Sky', 'love'), ('Sky', 'stone'), ('Sky', 'ice'), ('Sky', 'murat'), ('Sky', 'oya'), ('Sky', 'oya'), ('Star', 'love'), ('Star', 'stone'), ('Star', 'ice'), ('Star', 'murat'), ('Star', 'oya'), ('Star', 'oya'), ('love', 'stone'), ('love', 'ice'), ('love', 'murat'), ('love', 'oya'), ('love', 'oya'), ('stone', 'ice'), ('stone', 'murat'), ('stone', 'oya'), ('stone', 'oya'), ('ice', 'murat'), ('ice', 'oya'), ('ice', 'oya'), ('murat', 'oya'), ('murat', 'oya'), ('oya', 'oya')]\n"
     ]
    }
   ],
   "source": [
    "combos_object=combinations(poke_types,2)\n",
    "combos=[* combos_object]\n",
    "print(combos)"
   ]
  },
  {
   "cell_type": "code",
   "execution_count": 104,
   "metadata": {},
   "outputs": [
    {
     "name": "stdout",
     "output_type": "stream",
     "text": [
      "('oya', 'Grass')\n",
      "('murat', 'Dark')\n",
      "('bahadir', 'Fire')\n"
     ]
    }
   ],
   "source": [
    "# Combine names and primary_types\n",
    "names_type1 = [* zip(names, poke_types)]\n",
    "\n",
    "print(*names_type1[:5], sep='\\n')\n",
    "\n",
    "# Combine all three lists together\n",
    "#names_types = [* zip(names, primary_types,secondary_types)]\n",
    "\n"
   ]
  },
  {
   "cell_type": "code",
   "execution_count": 105,
   "metadata": {},
   "outputs": [
    {
     "name": "stdout",
     "output_type": "stream",
     "text": [
      "('oya', 'Grass')\n",
      "('murat', 'Dark')\n",
      "('bahadir', 'Fire')\n"
     ]
    }
   ],
   "source": [
    "# Combine five items from names and three items from primary_types\n",
    "differing_lengths = [* zip(names[0:5], poke_types[0:3])]\n",
    "\n",
    "print(*differing_lengths, sep='\\n')"
   ]
  },
  {
   "cell_type": "code",
   "execution_count": 125,
   "metadata": {},
   "outputs": [],
   "source": [
    "primary_types=['Water',\n",
    " 'Poison',\n",
    " 'Normal',\n",
    " 'Ice',\n",
    " 'Water',\n",
    " 'Bug',\n",
    " 'Grass',\n",
    " 'Normal',\n",
    " 'Psychic',\n",
    " 'Fairy',\n",
    " 'Rock',\n",
    " 'Ice',\n",
    " 'Grass',\n",
    " 'Rock',\n",
    " 'Steel',\n",
    " 'Normal',\n",
    " 'Normal',\n",
    " 'Fire',\n",
    " 'Grass',\n",
    " 'Ground',\n",
    " 'Psychic',\n",
    " 'Grass',\n",
    " 'Ground',\n",
    " 'Normal',\n",
    " 'Bug',\n",
    " 'Water',\n",
    " 'Water',\n",
    " 'Steel',\n",
    " 'Grass',\n",
    " 'Normal']\n",
    "\n",
    "generations = [1,\n",
    " 1,\n",
    " 1,\n",
    " 5,\n",
    " 3,\n",
    " 5,\n",
    " 1,\n",
    " 6,\n",
    " 1,\n",
    " 6,\n",
    " 5,\n",
    " 5,\n",
    " 6,\n",
    " 5,\n",
    " 5,\n",
    " 4,\n",
    " 6,\n",
    " 1,\n",
    " 5,\n",
    " 1,\n",
    " 4,\n",
    " 6,\n",
    " 3,\n",
    " 6,\n",
    " 3,\n",
    " 4,\n",
    " 1,\n",
    " 5,\n",
    " 6,\n",
    " 1,\n",
    " 5,\n",
    " 4,\n",
    " 4,\n",
    " 3,\n",
    " 3,\n",
    " 5,\n",
    " 2,\n",
    " 3,\n",
    " 1,\n",
    " 6,\n",
    " 5,\n",
    " 1,\n",
    " 5,\n",
    " 4,\n",
    " 3,\n",
    " 6,\n",
    " 1,\n",
    " 3,\n",
    " 3,\n",
    " 6,\n",
    " 6,\n",
    " 4,\n",
    " 2,\n",
    " 1,\n",
    " 2,\n",
    " 5,\n",
    " 5,\n",
    " 3,\n",
    " 1,\n",
    " 3,\n",
    " 5,\n",
    " 5,\n",
    " 5,\n",
    " 5,\n",
    " 6,\n",
    " 5,\n",
    " 1,\n",
    " 5,\n",
    " 1,\n",
    " 5,\n",
    " 5,\n",
    " 1,\n",
    " 6,\n",
    " 4,\n",
    " 3,\n",
    " 1,\n",
    " 6,\n",
    " 5,\n",
    " 1,\n",
    " 4,\n",
    " 6,\n",
    " 5,\n",
    " 1,\n",
    " 2,\n",
    " 5,\n",
    " 5,\n",
    " 3,\n",
    " 1,\n",
    " 5,\n",
    " 5,\n",
    " 3,\n",
    " 3,\n",
    " 3,\n",
    " 6,\n",
    " 1,\n",
    " 5,\n",
    " 1,\n",
    " 3,\n",
    " 3,\n",
    " 4,\n",
    " 5,\n",
    " 3,\n",
    " 1,\n",
    " 1,\n",
    " 1,\n",
    " 6,\n",
    " 3,\n",
    " 4\n",
    "]\n",
    "\n",
    "\n"
   ]
  },
  {
   "cell_type": "code",
   "execution_count": 110,
   "metadata": {},
   "outputs": [
    {
     "name": "stdout",
     "output_type": "stream",
     "text": [
      "Counter({'Normal': 6, 'Grass': 5, 'Water': 4, 'Ice': 2, 'Bug': 2, 'Psychic': 2, 'Rock': 2, 'Steel': 2, 'Ground': 2, 'Poison': 1, 'Fairy': 1, 'Fire': 1}) \n",
      "\n",
      "Counter({5: 93, 1: 78, 3: 74, 4: 63, 6: 36, 2: 32}) \n",
      "\n",
      "Counter({'o': 1, 'm': 1, 'b': 1})\n"
     ]
    }
   ],
   "source": [
    "# Collect the count of primary types\n",
    "type_count = Counter(primary_types)\n",
    "print(type_count, '\\n')\n",
    "\n",
    "# Collect the count of generations\n",
    "gen_count = Counter(generations)\n",
    "print(gen_count, '\\n')\n",
    "\n",
    "# Use list comprehension to get each Pokémon's starting letter\n",
    "starting_letters = [name[0] for name in names]\n",
    "\n",
    "# Collect the count of Pokémon for each starting_letter\n",
    "starting_letters_count = Counter(starting_letters)\n",
    "print(starting_letters_count)\n"
   ]
  },
  {
   "cell_type": "code",
   "execution_count": 112,
   "metadata": {},
   "outputs": [
    {
     "name": "stdout",
     "output_type": "stream",
     "text": [
      "<class 'itertools.combinations'> \n",
      "\n",
      "[('Geodude', 'Cubone'), ('Geodude', 'Lickitung'), ('Geodude', 'Persian'), ('Geodude', 'Diglett'), ('Cubone', 'Lickitung'), ('Cubone', 'Persian'), ('Cubone', 'Diglett'), ('Lickitung', 'Persian'), ('Lickitung', 'Diglett'), ('Persian', 'Diglett')] \n",
      "\n",
      "[('Geodude', 'Cubone', 'Lickitung', 'Persian'), ('Geodude', 'Cubone', 'Lickitung', 'Diglett'), ('Geodude', 'Cubone', 'Persian', 'Diglett'), ('Geodude', 'Lickitung', 'Persian', 'Diglett'), ('Cubone', 'Lickitung', 'Persian', 'Diglett')]\n"
     ]
    }
   ],
   "source": [
    "pokemon = ['Geodude', 'Cubone', 'Lickitung', 'Persian', 'Diglett']\n",
    "\n",
    "# Import combinations from itertools\n",
    "from itertools import combinations\n",
    "\n",
    "# Create a combination object with pairs of Pokémon\n",
    "combos_obj = combinations(pokemon, 2)\n",
    "print(type(combos_obj), '\\n')\n",
    "\n",
    "# Convert combos_obj to a list by unpacking\n",
    "combos_2 = [* combos_obj]\n",
    "print(combos_2, '\\n')\n",
    "\n",
    "# Collect all possible combinations of 4 Pokémon directly into a list\n",
    "combos_4 = combos_4 = [*combinations(pokemon, 4)]\n",
    "print(combos_4)"
   ]
  },
  {
   "cell_type": "markdown",
   "metadata": {},
   "source": [
    "### Set theory"
   ]
  },
  {
   "cell_type": "code",
   "execution_count": 113,
   "metadata": {},
   "outputs": [],
   "source": [
    "list_a = ['Bulbasaur','Charmander','Squirtle']\n",
    "list_b = ['Caterpie','Pidgey','Squirtle']"
   ]
  },
  {
   "cell_type": "code",
   "execution_count": 115,
   "metadata": {},
   "outputs": [
    {
     "name": "stdout",
     "output_type": "stream",
     "text": [
      "{'Charmander', 'Squirtle', 'Bulbasaur'}\n",
      "{'Pidgey', 'Squirtle', 'Caterpie'}\n"
     ]
    }
   ],
   "source": [
    "set_a = set(list_a)\n",
    "set_b = set(list_b)\n",
    "print(set_a)\n",
    "print(set_b)"
   ]
  },
  {
   "cell_type": "code",
   "execution_count": 119,
   "metadata": {},
   "outputs": [
    {
     "data": {
      "text/plain": [
       "{'Squirtle'}"
      ]
     },
     "execution_count": 119,
     "metadata": {},
     "output_type": "execute_result"
    }
   ],
   "source": [
    "set_a.intersection(set_b)\n"
   ]
  },
  {
   "cell_type": "code",
   "execution_count": 121,
   "metadata": {},
   "outputs": [
    {
     "data": {
      "text/plain": [
       "{'Bulbasaur', 'Charmander'}"
      ]
     },
     "execution_count": 121,
     "metadata": {},
     "output_type": "execute_result"
    }
   ],
   "source": [
    "set_a.difference(set_b)"
   ]
  },
  {
   "cell_type": "code",
   "execution_count": 122,
   "metadata": {},
   "outputs": [
    {
     "data": {
      "text/plain": [
       "{'Bulbasaur', 'Caterpie', 'Charmander', 'Pidgey'}"
      ]
     },
     "execution_count": 122,
     "metadata": {},
     "output_type": "execute_result"
    }
   ],
   "source": [
    "set_a.symmetric_difference(set_b)"
   ]
  },
  {
   "cell_type": "code",
   "execution_count": 123,
   "metadata": {},
   "outputs": [
    {
     "data": {
      "text/plain": [
       "{'Bulbasaur', 'Caterpie', 'Charmander', 'Pidgey', 'Squirtle'}"
      ]
     },
     "execution_count": 123,
     "metadata": {},
     "output_type": "execute_result"
    }
   ],
   "source": [
    "set_a.union(set_b)"
   ]
  },
  {
   "cell_type": "code",
   "execution_count": 132,
   "metadata": {},
   "outputs": [
    {
     "name": "stderr",
     "output_type": "stream",
     "text": [
      "UsageError: Line magic function `%%timeit` not found.\n"
     ]
    }
   ],
   "source": [
    "\n",
    "list_a = ['Bulbasaur','Charmander','Squirtle']\n",
    "list_b = ['Caterpie','Pidgey','Squirtle']\n",
    "\n"
   ]
  },
  {
   "cell_type": "code",
   "execution_count": 134,
   "metadata": {},
   "outputs": [
    {
     "name": "stdout",
     "output_type": "stream",
     "text": [
      "['Squirtle']\n"
     ]
    }
   ],
   "source": [
    "in_common=[]\n",
    "\n",
    "for pokemon_a in list_a:\n",
    "    for pokemon_b in list_b:\n",
    "        if pokemon_a==pokemon_b:\n",
    "            in_common.append(pokemon_a)\n",
    "\n",
    "print(in_common)"
   ]
  },
  {
   "cell_type": "code",
   "execution_count": 137,
   "metadata": {},
   "outputs": [
    {
     "name": "stdout",
     "output_type": "stream",
     "text": [
      "['Water', 'Poison', 'Normal', 'Ice', 'Bug', 'Grass', 'Psychic', 'Fairy', 'Rock', 'Steel', 'Fire', 'Ground']\n"
     ]
    }
   ],
   "source": [
    "# Set Theory\n",
    "\n",
    "primary_type = ['Grass','Psyhics','Dark','Bug','Oya']\n",
    "\n",
    "unique_types= []\n",
    "\n",
    "for prim_type in primary_types:\n",
    "    if prim_type not in unique_types:\n",
    "        unique_types.append(prim_type)\n",
    "        \n",
    "print(unique_types)"
   ]
  },
  {
   "cell_type": "code",
   "execution_count": 141,
   "metadata": {},
   "outputs": [
    {
     "name": "stdout",
     "output_type": "stream",
     "text": [
      "{'Water', 'Ice', 'Fire', 'Rock', 'Bug', 'Poison', 'Ground', 'Grass', 'Steel', 'Normal', 'Psychic', 'Fairy'}\n"
     ]
    }
   ],
   "source": [
    "unique_types_set = set(primary_types)\n",
    "print(unique_types_set)"
   ]
  },
  {
   "cell_type": "code",
   "execution_count": 144,
   "metadata": {},
   "outputs": [
    {
     "name": "stdout",
     "output_type": "stream",
     "text": [
      "{'Squirtle', 'Psyduck'}\n",
      "{'Zubat', 'Spearow', 'Vulpix', 'Pikachu', 'Rattata', 'Bulbasaur', 'Wigglytuff', 'Koffing'}\n",
      "{'Horsea', 'Zubat', 'Vaporeon', 'Spearow', 'Starmie', 'Slowbro', 'Wigglytuff', 'Vulpix', 'Pikachu', 'Krabby', 'Poliwag', 'Rattata', 'Bulbasaur', 'Magikarp', 'Tentacool', 'Koffing'}\n"
     ]
    }
   ],
   "source": [
    "ash_pokedex= ['Pikachu','Bulbasaur','Koffing','Spearow','Vulpix','Wigglytuff','Zubat','Rattata','Psyduck','Squirtle']\n",
    "misty_pokedex = ['Krabby', 'Horsea','Slowbro', 'Tentacool', 'Vaporeon','Magikarp', 'Poliwag', 'Starmie', 'Psyduck', 'Squirtle']\n",
    "\n",
    "# Convert both lists to sets\n",
    "ash_set = set(ash_pokedex)\n",
    "misty_set = set(misty_pokedex)\n",
    "\n",
    "# Find the Pokémon that exist in both sets\n",
    "both = ash_set.intersection(misty_set)\n",
    "print(both)\n",
    "\n",
    "# Find the Pokémon that Ash has and Misty does not have\n",
    "ash_only = ash_set.difference(misty_set)\n",
    "print(ash_only)\n",
    "\n",
    "# Find the Pokémon that are in only one set (not both)\n",
    "unique_to_set = ash_set.symmetric_difference(misty_set)\n",
    "print(unique_to_set)\n"
   ]
  },
  {
   "cell_type": "code",
   "execution_count": 150,
   "metadata": {},
   "outputs": [],
   "source": [
    "brock_pokedex = ['Dugtrio',\n",
    " 'Geodude',\n",
    " 'Golem',\n",
    " 'Kabutops',\n",
    " 'Machop',\n",
    " 'Omastar',\n",
    " 'Onix',\n",
    " 'Tauros',\n",
    " 'Vulpix',\n",
    " 'Zubat']"
   ]
  },
  {
   "cell_type": "code",
   "execution_count": 151,
   "metadata": {},
   "outputs": [
    {
     "name": "stdout",
     "output_type": "stream",
     "text": [
      "{'Zubat', 'Omastar', 'Onix', 'Dugtrio', 'Vulpix', 'Geodude', 'Tauros', 'Machop', 'Kabutops', 'Golem'}\n",
      "True\n",
      "False\n",
      "False\n",
      "True\n"
     ]
    }
   ],
   "source": [
    "# Convert Brock's Pokédex to a set\n",
    "brock_pokedex_set = set(brock_pokedex)\n",
    "print(brock_pokedex_set)\n",
    "\n",
    "# Check if Psyduck is in Ash's list and Brock's set\n",
    "print('Psyduck' in ash_pokedex)\n",
    "print('Psyduck' in brock_pokedex_set)\n",
    "\n",
    "# Check if Machop is in Ash's list and Brock's set\n",
    "print('Machop' in ash_pokedex)\n",
    "print('Machop' in brock_pokedex_set)"
   ]
  },
  {
   "cell_type": "code",
   "execution_count": 153,
   "metadata": {},
   "outputs": [],
   "source": [
    "def find_unique_items(data):\n",
    "    uniques = []\n",
    "\n",
    "    for item in data:\n",
    "        if item not in uniques:\n",
    "            uniques.append(item)\n",
    "\n",
    "    return uniques"
   ]
  },
  {
   "cell_type": "code",
   "execution_count": 154,
   "metadata": {},
   "outputs": [
    {
     "name": "stdout",
     "output_type": "stream",
     "text": [
      "3\n"
     ]
    }
   ],
   "source": [
    "# Use the provided function to collect unique Pokémon names\n",
    "uniq_names_func = find_unique_items(names)\n",
    "print(len(uniq_names_func))"
   ]
  },
  {
   "cell_type": "code",
   "execution_count": 155,
   "metadata": {},
   "outputs": [
    {
     "name": "stdout",
     "output_type": "stream",
     "text": [
      "3\n",
      "3\n",
      "True\n"
     ]
    }
   ],
   "source": [
    "# Use find_unique_items() to collect unique Pokémon names\n",
    "uniq_names_func = find_unique_items(names)\n",
    "print(len(uniq_names_func))\n",
    "\n",
    "# Convert the names list to a set to collect unique Pokémon names\n",
    "uniq_names_set = set(names)\n",
    "print(len(uniq_names_set))\n",
    "\n",
    "# Check that both unique collections are equivalent\n",
    "print(sorted(uniq_names_func) == sorted(uniq_names_set))"
   ]
  },
  {
   "cell_type": "code",
   "execution_count": 157,
   "metadata": {},
   "outputs": [
    {
     "name": "stdout",
     "output_type": "stream",
     "text": [
      "3\n",
      "3\n",
      "True\n",
      "{'Water', 'Ice', 'Fire', 'Rock', 'Bug', 'Poison', 'Ground', 'Grass', 'Steel', 'Normal', 'Psychic', 'Fairy'}\n",
      "{1, 2, 3, 4, 5, 6}\n"
     ]
    }
   ],
   "source": [
    "# Use find_unique_items() to collect unique Pokémon names\n",
    "uniq_names_func = find_unique_items(names)\n",
    "print(len(uniq_names_func))\n",
    "\n",
    "# Convert the names list to a set to collect unique Pokémon names\n",
    "uniq_names_set = set(names)\n",
    "print(len(uniq_names_set))\n",
    "\n",
    "# Check that both unique collections are equivalent\n",
    "print(sorted(uniq_names_func) == sorted(uniq_names_set))\n",
    "\n",
    "# Use the best approach to collect unique primary types and generations\n",
    "uniq_types = set(primary_types) \n",
    "uniq_gens = set(generations)\n",
    "print(uniq_types, uniq_gens, sep='\\n') "
   ]
  },
  {
   "cell_type": "markdown",
   "metadata": {},
   "source": [
    "Eliminating Loops"
   ]
  },
  {
   "cell_type": "code",
   "execution_count": 182,
   "metadata": {},
   "outputs": [
    {
     "name": "stdout",
     "output_type": "stream",
     "text": [
      "[282, 212, 176]\n"
     ]
    }
   ],
   "source": [
    "poke_stats = [[90,94,98],\n",
    "             [100,34,78],\n",
    "             [27,59,90],]\n",
    "#%%timeit\n",
    "totals = []\n",
    "\n",
    "for poke in poke_stats:\n",
    "    totals.append(sum(poke))\n",
    "    \n",
    "print(list(totals))"
   ]
  },
  {
   "cell_type": "code",
   "execution_count": 177,
   "metadata": {},
   "outputs": [
    {
     "name": "stdout",
     "output_type": "stream",
     "text": [
      "447 ns ± 29.6 ns per loop (mean ± std. dev. of 7 runs, 1000000 loops each)\n"
     ]
    },
    {
     "data": {
      "text/plain": [
       "[282, 212, 176]"
      ]
     },
     "execution_count": 177,
     "metadata": {},
     "output_type": "execute_result"
    }
   ],
   "source": [
    "%timeit totals = [ sum(poke) for poke in poke_stats]\n",
    "totals"
   ]
  },
  {
   "cell_type": "code",
   "execution_count": 176,
   "metadata": {},
   "outputs": [
    {
     "name": "stdout",
     "output_type": "stream",
     "text": [
      "429 ns ± 13.2 ns per loop (mean ± std. dev. of 7 runs, 1000000 loops each)\n"
     ]
    },
    {
     "data": {
      "text/plain": [
       "[282, 212, 176]"
      ]
     },
     "execution_count": 176,
     "metadata": {},
     "output_type": "execute_result"
    }
   ],
   "source": [
    "# Builtin Map Function\n",
    "\n",
    "%timeit total_map = [*map(sum,poke_stats)]\n",
    "total_map"
   ]
  },
  {
   "cell_type": "code",
   "execution_count": 185,
   "metadata": {},
   "outputs": [
    {
     "data": {
      "text/plain": [
       "[('Grass', 'oya'),\n",
       " ('Dark', 'oya'),\n",
       " ('Fire', 'oya'),\n",
       " ('Tree', 'oya'),\n",
       " ('Sky', 'oya'),\n",
       " ('Star', 'oya'),\n",
       " ('love', 'oya'),\n",
       " ('stone', 'oya'),\n",
       " ('ice', 'oya'),\n",
       " ('murat', 'oya')]"
      ]
     },
     "execution_count": 185,
     "metadata": {},
     "output_type": "execute_result"
    }
   ],
   "source": [
    "# Eliminating Loops with Builtin Modules\n",
    "\n",
    "combos =[]\n",
    "\n",
    "for x in poke_types:\n",
    "    if x==y:\n",
    "        continue\n",
    "    if ((x,y) not in combos)&((y,x) not in combos):\n",
    "        combos.append((x,y))\n",
    "        \n",
    "combos"
   ]
  },
  {
   "cell_type": "code",
   "execution_count": 187,
   "metadata": {},
   "outputs": [
    {
     "data": {
      "text/plain": [
       "[('Grass', 'Dark'),\n",
       " ('Grass', 'Fire'),\n",
       " ('Grass', 'Tree'),\n",
       " ('Grass', 'Sky'),\n",
       " ('Grass', 'Star'),\n",
       " ('Grass', 'love'),\n",
       " ('Grass', 'stone'),\n",
       " ('Grass', 'ice'),\n",
       " ('Grass', 'murat'),\n",
       " ('Grass', 'oya'),\n",
       " ('Grass', 'oya'),\n",
       " ('Dark', 'Fire'),\n",
       " ('Dark', 'Tree'),\n",
       " ('Dark', 'Sky'),\n",
       " ('Dark', 'Star'),\n",
       " ('Dark', 'love'),\n",
       " ('Dark', 'stone'),\n",
       " ('Dark', 'ice'),\n",
       " ('Dark', 'murat'),\n",
       " ('Dark', 'oya'),\n",
       " ('Dark', 'oya'),\n",
       " ('Fire', 'Tree'),\n",
       " ('Fire', 'Sky'),\n",
       " ('Fire', 'Star'),\n",
       " ('Fire', 'love'),\n",
       " ('Fire', 'stone'),\n",
       " ('Fire', 'ice'),\n",
       " ('Fire', 'murat'),\n",
       " ('Fire', 'oya'),\n",
       " ('Fire', 'oya'),\n",
       " ('Tree', 'Sky'),\n",
       " ('Tree', 'Star'),\n",
       " ('Tree', 'love'),\n",
       " ('Tree', 'stone'),\n",
       " ('Tree', 'ice'),\n",
       " ('Tree', 'murat'),\n",
       " ('Tree', 'oya'),\n",
       " ('Tree', 'oya'),\n",
       " ('Sky', 'Star'),\n",
       " ('Sky', 'love'),\n",
       " ('Sky', 'stone'),\n",
       " ('Sky', 'ice'),\n",
       " ('Sky', 'murat'),\n",
       " ('Sky', 'oya'),\n",
       " ('Sky', 'oya'),\n",
       " ('Star', 'love'),\n",
       " ('Star', 'stone'),\n",
       " ('Star', 'ice'),\n",
       " ('Star', 'murat'),\n",
       " ('Star', 'oya'),\n",
       " ('Star', 'oya'),\n",
       " ('love', 'stone'),\n",
       " ('love', 'ice'),\n",
       " ('love', 'murat'),\n",
       " ('love', 'oya'),\n",
       " ('love', 'oya'),\n",
       " ('stone', 'ice'),\n",
       " ('stone', 'murat'),\n",
       " ('stone', 'oya'),\n",
       " ('stone', 'oya'),\n",
       " ('ice', 'murat'),\n",
       " ('ice', 'oya'),\n",
       " ('ice', 'oya'),\n",
       " ('murat', 'oya'),\n",
       " ('murat', 'oya'),\n",
       " ('oya', 'oya')]"
      ]
     },
     "execution_count": 187,
     "metadata": {},
     "output_type": "execute_result"
    }
   ],
   "source": [
    "# builtin modules\n",
    "\n",
    "from itertools import combinations\n",
    "\n",
    "combos2 = [*combinations(poke_types,2)]\n",
    "combos2"
   ]
  },
  {
   "cell_type": "code",
   "execution_count": null,
   "metadata": {},
   "outputs": [],
   "source": [
    "# Another powerful technique to eliminate the loops is to use numpy package."
   ]
  },
  {
   "cell_type": "code",
   "execution_count": 190,
   "metadata": {},
   "outputs": [],
   "source": [
    "poke_stats = np.array([[90, 94, 98], [100, 34, 78], [27, 59, 90]])"
   ]
  },
  {
   "cell_type": "code",
   "execution_count": 193,
   "metadata": {},
   "outputs": [
    {
     "name": "stdout",
     "output_type": "stream",
     "text": [
      "[94.0, 70.66666666666667, 58.666666666666664]\n"
     ]
    }
   ],
   "source": [
    "avgs= []\n",
    "\n",
    "for row in poke_stats:\n",
    "    avg=np.mean(row)\n",
    "    avgs.append(avg)\n",
    "\n",
    "print(avgs)"
   ]
  },
  {
   "cell_type": "code",
   "execution_count": 195,
   "metadata": {},
   "outputs": [
    {
     "data": {
      "text/plain": [
       "array([94.        , 70.66666667, 58.66666667])"
      ]
     },
     "execution_count": 195,
     "metadata": {},
     "output_type": "execute_result"
    }
   ],
   "source": [
    "avg_np=poke_stats.mean(axis=1)\n",
    "avg_np"
   ]
  },
  {
   "cell_type": "code",
   "execution_count": 202,
   "metadata": {},
   "outputs": [],
   "source": [
    "poke_names= [['Abomasnow',\n",
    " 'Abra',\n",
    " 'Absol',\n",
    " 'Accelgor',\n",
    " 'Aerodactyl',\n",
    " 'Aggron',\n",
    " 'Aipom',\n",
    " 'Alakazam',\n",
    " 'Arcanine',\n",
    " 'Arceus',\n",
    " 'Archen']]\n"
   ]
  },
  {
   "cell_type": "code",
   "execution_count": 214,
   "metadata": {},
   "outputs": [],
   "source": [
    "poke_gens = [4,\n",
    " 1,\n",
    " 3,\n",
    " 5,\n",
    " 1,\n",
    " 3,\n",
    " 2,\n",
    " 1,\n",
    " 5,\n",
    " 3,\n",
    " 6\n",
    "\n",
    " ]"
   ]
  },
  {
   "cell_type": "code",
   "execution_count": 219,
   "metadata": {},
   "outputs": [
    {
     "name": "stdout",
     "output_type": "stream",
     "text": [
      "[]\n"
     ]
    }
   ],
   "source": [
    "gen1_gen2_name_lengths_loop = []\n",
    "\n",
    "for name,gen in zip(poke_names, poke_gens):\n",
    "    if gen < 3:\n",
    "        name_length = len(name)\n",
    "        poke_tuple = (name, name_length)\n",
    "        gen1_gen2_name_lengths_loop.append(poke_tuple)\n",
    "\n",
    "print(gen1_gen2_name_lengths_loop[:5])"
   ]
  },
  {
   "cell_type": "code",
   "execution_count": 220,
   "metadata": {},
   "outputs": [
    {
     "name": "stdout",
     "output_type": "stream",
     "text": [
      "[(['Abomasnow', 'Abra', 'Absol', 'Accelgor', 'Aerodactyl', 'Aggron', 'Aipom', 'Alakazam', 'Arcanine', 'Arceus', 'Archen'], 11)]\n"
     ]
    }
   ],
   "source": [
    "\n",
    "# Collect Pokémon that belong to generation 1 or generation 2\n",
    "gen1_gen2_pokemon = [name for name,gen in zip(poke_names, poke_gens) if gen < 8]\n",
    "\n",
    "# Create a map object that stores the name lengths\n",
    "name_lengths_map = map(len, gen1_gen2_pokemon)\n",
    "\n",
    "# Combine gen1_gen2_pokemon and name_lengths_map into a list\n",
    "gen1_gen2_name_lengths = [*zip(gen1_gen2_pokemon, name_lengths_map)]\n",
    "\n",
    "print(gen1_gen2_name_lengths[:5])"
   ]
  },
  {
   "cell_type": "code",
   "execution_count": 231,
   "metadata": {},
   "outputs": [],
   "source": [
    "import numpy as np\n",
    "names= ['Absol','Aron','Natu','Onix']\n",
    "attacks = np.array([130,70,50,50,45])"
   ]
  },
  {
   "cell_type": "code",
   "execution_count": 242,
   "metadata": {},
   "outputs": [],
   "source": [
    "for pokemon,attack in zip(names,attacks):\n",
    "    total_attack_avg=attack.mean()\n",
    "    if attack > total_attack_avg:\n",
    "        print(\n",
    "        \"{}'s attack: {} > average: {}!\".format(pokemon,attack,total_attach_avg))"
   ]
  },
  {
   "cell_type": "code",
   "execution_count": 246,
   "metadata": {},
   "outputs": [],
   "source": [
    "pokemon_types =['Bug',\n",
    " 'Dark',\n",
    " 'Dragon',\n",
    " 'Electric',\n",
    " 'Fairy',\n",
    " 'Fighting',\n",
    " 'Fire',\n",
    " 'Flying',\n",
    " 'Ghost',\n",
    " 'Grass',\n",
    " 'Ground',\n",
    " 'Ice',\n",
    " 'Normal',\n",
    " 'Poison',\n",
    " 'Psychic',\n",
    " 'Rock',\n",
    " 'Steel',\n",
    " 'Water']"
   ]
  },
  {
   "cell_type": "code",
   "execution_count": 247,
   "metadata": {},
   "outputs": [
    {
     "name": "stdout",
     "output_type": "stream",
     "text": [
      "[[1, 'Bug', 'Dark'], [2, 'Bug', 'Dragon'], [3, 'Bug', 'Electric'], [4, 'Bug', 'Fairy'], [5, 'Bug', 'Fighting'], [6, 'Bug', 'Fire'], [7, 'Bug', 'Flying'], [8, 'Bug', 'Ghost'], [9, 'Bug', 'Grass'], [10, 'Bug', 'Ground'], [11, 'Bug', 'Ice'], [12, 'Bug', 'Normal'], [13, 'Bug', 'Poison'], [14, 'Bug', 'Psychic'], [15, 'Bug', 'Rock'], [16, 'Bug', 'Steel'], [17, 'Bug', 'Water'], [18, 'Dark', 'Dragon'], [19, 'Dark', 'Electric'], [20, 'Dark', 'Fairy'], [21, 'Dark', 'Fighting'], [22, 'Dark', 'Fire'], [23, 'Dark', 'Flying'], [24, 'Dark', 'Ghost'], [25, 'Dark', 'Grass'], [26, 'Dark', 'Ground'], [27, 'Dark', 'Ice'], [28, 'Dark', 'Normal'], [29, 'Dark', 'Poison'], [30, 'Dark', 'Psychic'], [31, 'Dark', 'Rock'], [32, 'Dark', 'Steel'], [33, 'Dark', 'Water'], [34, 'Dragon', 'Electric'], [35, 'Dragon', 'Fairy'], [36, 'Dragon', 'Fighting'], [37, 'Dragon', 'Fire'], [38, 'Dragon', 'Flying'], [39, 'Dragon', 'Ghost'], [40, 'Dragon', 'Grass'], [41, 'Dragon', 'Ground'], [42, 'Dragon', 'Ice'], [43, 'Dragon', 'Normal'], [44, 'Dragon', 'Poison'], [45, 'Dragon', 'Psychic'], [46, 'Dragon', 'Rock'], [47, 'Dragon', 'Steel'], [48, 'Dragon', 'Water'], [49, 'Electric', 'Fairy'], [50, 'Electric', 'Fighting'], [51, 'Electric', 'Fire'], [52, 'Electric', 'Flying'], [53, 'Electric', 'Ghost'], [54, 'Electric', 'Grass'], [55, 'Electric', 'Ground'], [56, 'Electric', 'Ice'], [57, 'Electric', 'Normal'], [58, 'Electric', 'Poison'], [59, 'Electric', 'Psychic'], [60, 'Electric', 'Rock'], [61, 'Electric', 'Steel'], [62, 'Electric', 'Water'], [63, 'Fairy', 'Fighting'], [64, 'Fairy', 'Fire'], [65, 'Fairy', 'Flying'], [66, 'Fairy', 'Ghost'], [67, 'Fairy', 'Grass'], [68, 'Fairy', 'Ground'], [69, 'Fairy', 'Ice'], [70, 'Fairy', 'Normal'], [71, 'Fairy', 'Poison'], [72, 'Fairy', 'Psychic'], [73, 'Fairy', 'Rock'], [74, 'Fairy', 'Steel'], [75, 'Fairy', 'Water'], [76, 'Fighting', 'Fire'], [77, 'Fighting', 'Flying'], [78, 'Fighting', 'Ghost'], [79, 'Fighting', 'Grass'], [80, 'Fighting', 'Ground'], [81, 'Fighting', 'Ice'], [82, 'Fighting', 'Normal'], [83, 'Fighting', 'Poison'], [84, 'Fighting', 'Psychic'], [85, 'Fighting', 'Rock'], [86, 'Fighting', 'Steel'], [87, 'Fighting', 'Water'], [88, 'Fire', 'Flying'], [89, 'Fire', 'Ghost'], [90, 'Fire', 'Grass'], [91, 'Fire', 'Ground'], [92, 'Fire', 'Ice'], [93, 'Fire', 'Normal'], [94, 'Fire', 'Poison'], [95, 'Fire', 'Psychic'], [96, 'Fire', 'Rock'], [97, 'Fire', 'Steel'], [98, 'Fire', 'Water'], [99, 'Flying', 'Ghost'], [100, 'Flying', 'Grass'], [101, 'Flying', 'Ground'], [102, 'Flying', 'Ice'], [103, 'Flying', 'Normal'], [104, 'Flying', 'Poison'], [105, 'Flying', 'Psychic'], [106, 'Flying', 'Rock'], [107, 'Flying', 'Steel'], [108, 'Flying', 'Water'], [109, 'Ghost', 'Grass'], [110, 'Ghost', 'Ground'], [111, 'Ghost', 'Ice'], [112, 'Ghost', 'Normal'], [113, 'Ghost', 'Poison'], [114, 'Ghost', 'Psychic'], [115, 'Ghost', 'Rock'], [116, 'Ghost', 'Steel'], [117, 'Ghost', 'Water'], [118, 'Grass', 'Ground'], [119, 'Grass', 'Ice'], [120, 'Grass', 'Normal'], [121, 'Grass', 'Poison'], [122, 'Grass', 'Psychic'], [123, 'Grass', 'Rock'], [124, 'Grass', 'Steel'], [125, 'Grass', 'Water'], [126, 'Ground', 'Ice'], [127, 'Ground', 'Normal'], [128, 'Ground', 'Poison'], [129, 'Ground', 'Psychic'], [130, 'Ground', 'Rock'], [131, 'Ground', 'Steel'], [132, 'Ground', 'Water'], [133, 'Ice', 'Normal'], [134, 'Ice', 'Poison'], [135, 'Ice', 'Psychic'], [136, 'Ice', 'Rock'], [137, 'Ice', 'Steel'], [138, 'Ice', 'Water'], [139, 'Normal', 'Poison'], [140, 'Normal', 'Psychic'], [141, 'Normal', 'Rock'], [142, 'Normal', 'Steel'], [143, 'Normal', 'Water'], [144, 'Poison', 'Psychic'], [145, 'Poison', 'Rock'], [146, 'Poison', 'Steel'], [147, 'Poison', 'Water'], [148, 'Psychic', 'Rock'], [149, 'Psychic', 'Steel'], [150, 'Psychic', 'Water'], [151, 'Rock', 'Steel'], [152, 'Rock', 'Water'], [153, 'Steel', 'Water']]\n"
     ]
    }
   ],
   "source": [
    "# Collect all possible pairs using combinations()\n",
    "possible_pairs = [*combinations(pokemon_types, 2)]\n",
    "\n",
    "# Create an empty list called enumerated_tuples\n",
    "enumerated_tuples = []\n",
    "\n",
    "# Append each enumerated_pair_tuple to the empty list above\n",
    "for i,pair in enumerate(possible_pairs, 1):\n",
    "    enumerated_pair_tuple = (i,) + pair\n",
    "    enumerated_tuples.append(enumerated_pair_tuple)\n",
    "\n",
    "# Convert all tuples in enumerated_tuples to a list\n",
    "enumerated_pairs = [*map(list, enumerated_tuples)]\n",
    "print(enumerated_pairs)"
   ]
  },
  {
   "cell_type": "code",
   "execution_count": null,
   "metadata": {},
   "outputs": [],
   "source": []
  },
  {
   "cell_type": "code",
   "execution_count": null,
   "metadata": {},
   "outputs": [],
   "source": []
  },
  {
   "cell_type": "code",
   "execution_count": null,
   "metadata": {},
   "outputs": [],
   "source": []
  },
  {
   "cell_type": "code",
   "execution_count": null,
   "metadata": {},
   "outputs": [],
   "source": []
  },
  {
   "cell_type": "code",
   "execution_count": null,
   "metadata": {},
   "outputs": [],
   "source": []
  },
  {
   "cell_type": "code",
   "execution_count": null,
   "metadata": {},
   "outputs": [],
   "source": []
  },
  {
   "cell_type": "code",
   "execution_count": null,
   "metadata": {},
   "outputs": [],
   "source": []
  },
  {
   "cell_type": "code",
   "execution_count": null,
   "metadata": {},
   "outputs": [],
   "source": []
  },
  {
   "cell_type": "code",
   "execution_count": 158,
   "metadata": {},
   "outputs": [
    {
     "name": "stdout",
     "output_type": "stream",
     "text": [
      "The memory_profiler extension is already loaded. To reload it, use:\n",
      "  %reload_ext memory_profiler\n"
     ]
    }
   ],
   "source": [
    "import sys\n",
    "\n",
    "%load_ext memory_profiler"
   ]
  },
  {
   "cell_type": "code",
   "execution_count": 159,
   "metadata": {},
   "outputs": [],
   "source": [
    "num_list=[*range(100)]"
   ]
  },
  {
   "cell_type": "code",
   "execution_count": 160,
   "metadata": {},
   "outputs": [
    {
     "data": {
      "text/plain": [
       "1000"
      ]
     },
     "execution_count": 160,
     "metadata": {},
     "output_type": "execute_result"
    }
   ],
   "source": [
    "sys.getsizeof(num_list)"
   ]
  },
  {
   "cell_type": "code",
   "execution_count": 161,
   "metadata": {},
   "outputs": [
    {
     "data": {
      "text/plain": [
       "912"
      ]
     },
     "execution_count": 161,
     "metadata": {},
     "output_type": "execute_result"
    }
   ],
   "source": [
    "import numpy as np\n",
    "\n",
    "nums_np=np.array([range(100)])\n",
    "sys.getsizeof(nums_np)"
   ]
  },
  {
   "cell_type": "code",
   "execution_count": 162,
   "metadata": {},
   "outputs": [],
   "source": [
    "#%mprun -f nums_np"
   ]
  },
  {
   "cell_type": "markdown",
   "metadata": {},
   "source": [
    "### Efficiently combining, counting, and iterating"
   ]
  },
  {
   "cell_type": "code",
   "execution_count": null,
   "metadata": {},
   "outputs": [],
   "source": []
  }
 ],
 "metadata": {
  "kernelspec": {
   "display_name": "Python 3",
   "language": "python",
   "name": "python3"
  },
  "language_info": {
   "codemirror_mode": {
    "name": "ipython",
    "version": 3
   },
   "file_extension": ".py",
   "mimetype": "text/x-python",
   "name": "python",
   "nbconvert_exporter": "python",
   "pygments_lexer": "ipython3",
   "version": "3.8.5"
  }
 },
 "nbformat": 4,
 "nbformat_minor": 4
}
